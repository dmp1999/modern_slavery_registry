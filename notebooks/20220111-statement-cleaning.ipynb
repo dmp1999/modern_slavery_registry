{
 "cells": [
  {
   "cell_type": "markdown",
   "metadata": {},
   "source": [
    "Text Processing and Cleaning\n",
    "* Combining statements from Edgar and Nitin\n",
    "* removing stopwords, special characters\n",
    "* removing company name from the statement - compant name in the statement is not relevant for textual analysis"
   ]
  },
  {
   "cell_type": "code",
   "execution_count": 1,
   "metadata": {},
   "outputs": [],
   "source": [
    "%load_ext autoreload\n",
    "%autoreload 2"
   ]
  },
  {
   "cell_type": "code",
   "execution_count": 2,
   "metadata": {},
   "outputs": [],
   "source": [
    "import pandas as pd\n",
    "import os\n",
    "import concurrent.futures\n",
    "from tqdm import tqdm\n",
    "from typing import Optional, List, Dict, Callable\n",
    "from urlextract import URLExtract\n",
    "import nltk\n",
    "import re\n",
    "from matplotlib import pyplot as plt\n",
    "from nltk.corpus import stopwords\n",
    "\n",
    "from collections import Counter\n",
    "from copy import deepcopy\n",
    "from typing import Dict, Tuple"
   ]
  },
  {
   "cell_type": "code",
   "execution_count": 3,
   "metadata": {},
   "outputs": [],
   "source": [
    "from modern_slavery import get_root_path\n",
    "from modern_slavery.text_parser_v2 import (\n",
    "    word_expantions, \n",
    "    find_urls_in_text, \n",
    "    CustomWordNetLemmatizer)"
   ]
  },
  {
   "cell_type": "code",
   "execution_count": 4,
   "metadata": {},
   "outputs": [],
   "source": [
    "DATA_PATH = os.path.join(get_root_path(), \"data\")\n",
    "SHEETS_PATH = os.path.join(DATA_PATH,  \"sheets\")"
   ]
  },
  {
   "cell_type": "code",
   "execution_count": 5,
   "metadata": {},
   "outputs": [
    {
     "name": "stdout",
     "output_type": "stream",
     "text": [
      "Number of rows before removing rows with NULL statements: 28417\n",
      "Number of rows after removing rows with NULL statements: 18622\n",
      "Number of rows before removing duplicate rows: 18622\n",
      "Number of rows after removing duplicate rows: 18621\n"
     ]
    },
    {
     "data": {
      "text/html": [
       "<div>\n",
       "<style scoped>\n",
       "    .dataframe tbody tr th:only-of-type {\n",
       "        vertical-align: middle;\n",
       "    }\n",
       "\n",
       "    .dataframe tbody tr th {\n",
       "        vertical-align: top;\n",
       "    }\n",
       "\n",
       "    .dataframe thead th {\n",
       "        text-align: right;\n",
       "    }\n",
       "</style>\n",
       "<table border=\"1\" class=\"dataframe\">\n",
       "  <thead>\n",
       "    <tr style=\"text-align: right;\">\n",
       "      <th></th>\n",
       "      <th>Company ID</th>\n",
       "      <th>Company</th>\n",
       "      <th>Is Publisher</th>\n",
       "      <th>Statement ID</th>\n",
       "      <th>URL</th>\n",
       "      <th>Override URL</th>\n",
       "      <th>Companies House Number</th>\n",
       "      <th>Industry</th>\n",
       "      <th>HQ</th>\n",
       "      <th>Is Also Covered</th>\n",
       "      <th>UK Modern Slavery Act</th>\n",
       "      <th>California Transparency in Supply Chains Act</th>\n",
       "      <th>Australia Modern Slavery Act</th>\n",
       "      <th>Period Covered</th>\n",
       "      <th>Text</th>\n",
       "    </tr>\n",
       "  </thead>\n",
       "  <tbody>\n",
       "    <tr>\n",
       "      <th>0</th>\n",
       "      <td>7676</td>\n",
       "      <td>\"K\" Line Holding Europe Limited</td>\n",
       "      <td>True</td>\n",
       "      <td>35092.0</td>\n",
       "      <td>https://img1.wsimg.com/blobby/go/7695baff-3f0f...</td>\n",
       "      <td>NaN</td>\n",
       "      <td>05005018</td>\n",
       "      <td>Marine</td>\n",
       "      <td>United Kingdom</td>\n",
       "      <td>False</td>\n",
       "      <td>True</td>\n",
       "      <td>False</td>\n",
       "      <td>False</td>\n",
       "      <td>2018-2019</td>\n",
       "      <td>K LINE\\nHOLDINC (EUROPE) LTD.\\nModern Slavery ...</td>\n",
       "    </tr>\n",
       "    <tr>\n",
       "      <th>1</th>\n",
       "      <td>28660</td>\n",
       "      <td>\"K\" Line Bulk Shipping (UK) Limited</td>\n",
       "      <td>False</td>\n",
       "      <td>35092.0</td>\n",
       "      <td>https://img1.wsimg.com/blobby/go/7695baff-3f0f...</td>\n",
       "      <td>NaN</td>\n",
       "      <td>04830352</td>\n",
       "      <td>Marine</td>\n",
       "      <td>United Kingdom</td>\n",
       "      <td>True</td>\n",
       "      <td>True</td>\n",
       "      <td>False</td>\n",
       "      <td>False</td>\n",
       "      <td>2018-2019</td>\n",
       "      <td>K LINE\\nHOLDINC (EUROPE) LTD.\\nModern Slavery ...</td>\n",
       "    </tr>\n",
       "    <tr>\n",
       "      <th>2</th>\n",
       "      <td>28659</td>\n",
       "      <td>\"K\" Line (Europe) Limited</td>\n",
       "      <td>False</td>\n",
       "      <td>35092.0</td>\n",
       "      <td>https://img1.wsimg.com/blobby/go/7695baff-3f0f...</td>\n",
       "      <td>NaN</td>\n",
       "      <td>05639474</td>\n",
       "      <td>Marine</td>\n",
       "      <td>United Kingdom</td>\n",
       "      <td>True</td>\n",
       "      <td>True</td>\n",
       "      <td>False</td>\n",
       "      <td>False</td>\n",
       "      <td>2018-2019</td>\n",
       "      <td>K LINE\\nHOLDINC (EUROPE) LTD.\\nModern Slavery ...</td>\n",
       "    </tr>\n",
       "    <tr>\n",
       "      <th>3</th>\n",
       "      <td>28661</td>\n",
       "      <td>\"K\" Line LNG Shipping Limited</td>\n",
       "      <td>False</td>\n",
       "      <td>35092.0</td>\n",
       "      <td>https://img1.wsimg.com/blobby/go/7695baff-3f0f...</td>\n",
       "      <td>NaN</td>\n",
       "      <td>NaN</td>\n",
       "      <td>Marine</td>\n",
       "      <td>United Kingdom</td>\n",
       "      <td>True</td>\n",
       "      <td>True</td>\n",
       "      <td>False</td>\n",
       "      <td>False</td>\n",
       "      <td>2018-2019</td>\n",
       "      <td>K LINE\\nHOLDINC (EUROPE) LTD.\\nModern Slavery ...</td>\n",
       "    </tr>\n",
       "    <tr>\n",
       "      <th>4</th>\n",
       "      <td>28658</td>\n",
       "      <td>Polar LNG Shipping (UK) Limited</td>\n",
       "      <td>False</td>\n",
       "      <td>35092.0</td>\n",
       "      <td>https://img1.wsimg.com/blobby/go/7695baff-3f0f...</td>\n",
       "      <td>NaN</td>\n",
       "      <td>02205323</td>\n",
       "      <td>Marine</td>\n",
       "      <td>United Kingdom</td>\n",
       "      <td>True</td>\n",
       "      <td>True</td>\n",
       "      <td>False</td>\n",
       "      <td>False</td>\n",
       "      <td>2018-2019</td>\n",
       "      <td>K LINE\\nHOLDINC (EUROPE) LTD.\\nModern Slavery ...</td>\n",
       "    </tr>\n",
       "  </tbody>\n",
       "</table>\n",
       "</div>"
      ],
      "text/plain": [
       "   Company ID                              Company Is Publisher  Statement ID  \\\n",
       "0        7676      \"K\" Line Holding Europe Limited         True       35092.0   \n",
       "1       28660  \"K\" Line Bulk Shipping (UK) Limited        False       35092.0   \n",
       "2       28659            \"K\" Line (Europe) Limited        False       35092.0   \n",
       "3       28661        \"K\" Line LNG Shipping Limited        False       35092.0   \n",
       "4       28658      Polar LNG Shipping (UK) Limited        False       35092.0   \n",
       "\n",
       "                                                 URL Override URL  \\\n",
       "0  https://img1.wsimg.com/blobby/go/7695baff-3f0f...          NaN   \n",
       "1  https://img1.wsimg.com/blobby/go/7695baff-3f0f...          NaN   \n",
       "2  https://img1.wsimg.com/blobby/go/7695baff-3f0f...          NaN   \n",
       "3  https://img1.wsimg.com/blobby/go/7695baff-3f0f...          NaN   \n",
       "4  https://img1.wsimg.com/blobby/go/7695baff-3f0f...          NaN   \n",
       "\n",
       "  Companies House Number Industry              HQ Is Also Covered  \\\n",
       "0               05005018   Marine  United Kingdom           False   \n",
       "1               04830352   Marine  United Kingdom            True   \n",
       "2               05639474   Marine  United Kingdom            True   \n",
       "3                    NaN   Marine  United Kingdom            True   \n",
       "4               02205323   Marine  United Kingdom            True   \n",
       "\n",
       "  UK Modern Slavery Act California Transparency in Supply Chains Act  \\\n",
       "0                  True                                        False   \n",
       "1                  True                                        False   \n",
       "2                  True                                        False   \n",
       "3                  True                                        False   \n",
       "4                  True                                        False   \n",
       "\n",
       "  Australia Modern Slavery Act Period Covered  \\\n",
       "0                        False      2018-2019   \n",
       "1                        False      2018-2019   \n",
       "2                        False      2018-2019   \n",
       "3                        False      2018-2019   \n",
       "4                        False      2018-2019   \n",
       "\n",
       "                                                Text  \n",
       "0  K LINE\\nHOLDINC (EUROPE) LTD.\\nModern Slavery ...  \n",
       "1  K LINE\\nHOLDINC (EUROPE) LTD.\\nModern Slavery ...  \n",
       "2  K LINE\\nHOLDINC (EUROPE) LTD.\\nModern Slavery ...  \n",
       "3  K LINE\\nHOLDINC (EUROPE) LTD.\\nModern Slavery ...  \n",
       "4  K LINE\\nHOLDINC (EUROPE) LTD.\\nModern Slavery ...  "
      ]
     },
     "execution_count": 5,
     "metadata": {},
     "output_type": "execute_result"
    }
   ],
   "source": [
    "df = pd.read_csv(\n",
    "    os.path.join(SHEETS_PATH, \"modern_slavery_dataset.csv\"))\n",
    "\n",
    "print(f\"Number of rows before removing rows with NULL statements: {len(df)}\")\n",
    "df.dropna(subset=[\"Text\"], inplace=True, axis=0)\n",
    "print(f\"Number of rows after removing rows with NULL statements: {len(df)}\")\n",
    "\n",
    "print(f\"Number of rows before removing duplicate rows: {len(df)}\")\n",
    "df.drop_duplicates(inplace=True)\n",
    "df.reset_index(drop=True, inplace=True)\n",
    "print(f\"Number of rows after removing duplicate rows: {len(df)}\")\n",
    "\n",
    "df[\"Text\"] = df[\"Text\"].astype(str)\n",
    "df.head()"
   ]
  },
  {
   "cell_type": "markdown",
   "metadata": {},
   "source": [
    "## Getting level of data"
   ]
  },
  {
   "cell_type": "code",
   "execution_count": 6,
   "metadata": {},
   "outputs": [
    {
     "data": {
      "text/plain": [
       "Company ID                                      13207\n",
       "Company                                         13207\n",
       "Is Publisher                                        2\n",
       "Statement ID                                    12181\n",
       "URL                                             10827\n",
       "Override URL                                        3\n",
       "Companies House Number                          10367\n",
       "Industry                                           71\n",
       "HQ                                                 64\n",
       "Is Also Covered                                     2\n",
       "UK Modern Slavery Act                               2\n",
       "California Transparency in Supply Chains Act        2\n",
       "Australia Modern Slavery Act                        2\n",
       "Period Covered                                     17\n",
       "Text                                            10025\n",
       "dtype: int64"
      ]
     },
     "execution_count": 6,
     "metadata": {},
     "output_type": "execute_result"
    }
   ],
   "source": [
    "df.nunique(axis=0)"
   ]
  },
  {
   "cell_type": "code",
   "execution_count": 7,
   "metadata": {},
   "outputs": [
    {
     "name": "stdout",
     "output_type": "stream",
     "text": [
      "Number of rows: 18621\n",
      "Unique entries across cols ['Company ID']: 13207\n",
      "Unique entries across cols ['Company ID', 'Company']: 13207\n",
      "Unique entries across cols ['Company ID', 'Company', 'Statement ID']: 18621\n",
      "Unique entries across cols ['Company ID', 'Company', 'Statement ID', 'URL']: 18621\n"
     ]
    }
   ],
   "source": [
    "print(f\"Number of rows: {len(df)}\")\n",
    "cols = [\"Company ID\", \"Company\", \"Statement ID\", \"URL\"]\n",
    "for i in range(1, len(cols)+1):\n",
    "    print(f'Unique entries across cols {cols[:i]}: {len(df.drop_duplicates(cols[:i]))}')"
   ]
  },
  {
   "cell_type": "code",
   "execution_count": 10,
   "metadata": {},
   "outputs": [
    {
     "data": {
      "text/plain": [
       "18621"
      ]
     },
     "execution_count": 10,
     "metadata": {},
     "output_type": "execute_result"
    }
   ],
   "source": [
    "len(df.drop_duplicates([\"Company ID\", \"Statement ID\"]))"
   ]
  },
  {
   "cell_type": "markdown",
   "metadata": {},
   "source": [
    "### <font color=\"blue\">Level of data = [\"Company ID\", \"Statement ID\"]</font>"
   ]
  },
  {
   "cell_type": "markdown",
   "metadata": {},
   "source": [
    "## Adding `Row ID` as unique identifier of each row"
   ]
  },
  {
   "cell_type": "code",
   "execution_count": 8,
   "metadata": {},
   "outputs": [
    {
     "data": {
      "text/html": [
       "<div>\n",
       "<style scoped>\n",
       "    .dataframe tbody tr th:only-of-type {\n",
       "        vertical-align: middle;\n",
       "    }\n",
       "\n",
       "    .dataframe tbody tr th {\n",
       "        vertical-align: top;\n",
       "    }\n",
       "\n",
       "    .dataframe thead th {\n",
       "        text-align: right;\n",
       "    }\n",
       "</style>\n",
       "<table border=\"1\" class=\"dataframe\">\n",
       "  <thead>\n",
       "    <tr style=\"text-align: right;\">\n",
       "      <th></th>\n",
       "      <th>Row ID</th>\n",
       "      <th>Company ID</th>\n",
       "      <th>Company</th>\n",
       "      <th>Is Publisher</th>\n",
       "      <th>Statement ID</th>\n",
       "      <th>URL</th>\n",
       "      <th>Override URL</th>\n",
       "      <th>Companies House Number</th>\n",
       "      <th>Industry</th>\n",
       "      <th>HQ</th>\n",
       "      <th>Is Also Covered</th>\n",
       "      <th>UK Modern Slavery Act</th>\n",
       "      <th>California Transparency in Supply Chains Act</th>\n",
       "      <th>Australia Modern Slavery Act</th>\n",
       "      <th>Period Covered</th>\n",
       "      <th>Text</th>\n",
       "    </tr>\n",
       "  </thead>\n",
       "  <tbody>\n",
       "    <tr>\n",
       "      <th>0</th>\n",
       "      <td>0</td>\n",
       "      <td>7676</td>\n",
       "      <td>\"K\" Line Holding Europe Limited</td>\n",
       "      <td>True</td>\n",
       "      <td>35092.0</td>\n",
       "      <td>https://img1.wsimg.com/blobby/go/7695baff-3f0f...</td>\n",
       "      <td>NaN</td>\n",
       "      <td>05005018</td>\n",
       "      <td>Marine</td>\n",
       "      <td>United Kingdom</td>\n",
       "      <td>False</td>\n",
       "      <td>True</td>\n",
       "      <td>False</td>\n",
       "      <td>False</td>\n",
       "      <td>2018-2019</td>\n",
       "      <td>K LINE\\nHOLDINC (EUROPE) LTD.\\nModern Slavery ...</td>\n",
       "    </tr>\n",
       "    <tr>\n",
       "      <th>1</th>\n",
       "      <td>1</td>\n",
       "      <td>28660</td>\n",
       "      <td>\"K\" Line Bulk Shipping (UK) Limited</td>\n",
       "      <td>False</td>\n",
       "      <td>35092.0</td>\n",
       "      <td>https://img1.wsimg.com/blobby/go/7695baff-3f0f...</td>\n",
       "      <td>NaN</td>\n",
       "      <td>04830352</td>\n",
       "      <td>Marine</td>\n",
       "      <td>United Kingdom</td>\n",
       "      <td>True</td>\n",
       "      <td>True</td>\n",
       "      <td>False</td>\n",
       "      <td>False</td>\n",
       "      <td>2018-2019</td>\n",
       "      <td>K LINE\\nHOLDINC (EUROPE) LTD.\\nModern Slavery ...</td>\n",
       "    </tr>\n",
       "    <tr>\n",
       "      <th>2</th>\n",
       "      <td>2</td>\n",
       "      <td>28659</td>\n",
       "      <td>\"K\" Line (Europe) Limited</td>\n",
       "      <td>False</td>\n",
       "      <td>35092.0</td>\n",
       "      <td>https://img1.wsimg.com/blobby/go/7695baff-3f0f...</td>\n",
       "      <td>NaN</td>\n",
       "      <td>05639474</td>\n",
       "      <td>Marine</td>\n",
       "      <td>United Kingdom</td>\n",
       "      <td>True</td>\n",
       "      <td>True</td>\n",
       "      <td>False</td>\n",
       "      <td>False</td>\n",
       "      <td>2018-2019</td>\n",
       "      <td>K LINE\\nHOLDINC (EUROPE) LTD.\\nModern Slavery ...</td>\n",
       "    </tr>\n",
       "    <tr>\n",
       "      <th>3</th>\n",
       "      <td>3</td>\n",
       "      <td>28661</td>\n",
       "      <td>\"K\" Line LNG Shipping Limited</td>\n",
       "      <td>False</td>\n",
       "      <td>35092.0</td>\n",
       "      <td>https://img1.wsimg.com/blobby/go/7695baff-3f0f...</td>\n",
       "      <td>NaN</td>\n",
       "      <td>NaN</td>\n",
       "      <td>Marine</td>\n",
       "      <td>United Kingdom</td>\n",
       "      <td>True</td>\n",
       "      <td>True</td>\n",
       "      <td>False</td>\n",
       "      <td>False</td>\n",
       "      <td>2018-2019</td>\n",
       "      <td>K LINE\\nHOLDINC (EUROPE) LTD.\\nModern Slavery ...</td>\n",
       "    </tr>\n",
       "    <tr>\n",
       "      <th>4</th>\n",
       "      <td>4</td>\n",
       "      <td>28658</td>\n",
       "      <td>Polar LNG Shipping (UK) Limited</td>\n",
       "      <td>False</td>\n",
       "      <td>35092.0</td>\n",
       "      <td>https://img1.wsimg.com/blobby/go/7695baff-3f0f...</td>\n",
       "      <td>NaN</td>\n",
       "      <td>02205323</td>\n",
       "      <td>Marine</td>\n",
       "      <td>United Kingdom</td>\n",
       "      <td>True</td>\n",
       "      <td>True</td>\n",
       "      <td>False</td>\n",
       "      <td>False</td>\n",
       "      <td>2018-2019</td>\n",
       "      <td>K LINE\\nHOLDINC (EUROPE) LTD.\\nModern Slavery ...</td>\n",
       "    </tr>\n",
       "  </tbody>\n",
       "</table>\n",
       "</div>"
      ],
      "text/plain": [
       "   Row ID  Company ID                              Company Is Publisher  \\\n",
       "0       0        7676      \"K\" Line Holding Europe Limited         True   \n",
       "1       1       28660  \"K\" Line Bulk Shipping (UK) Limited        False   \n",
       "2       2       28659            \"K\" Line (Europe) Limited        False   \n",
       "3       3       28661        \"K\" Line LNG Shipping Limited        False   \n",
       "4       4       28658      Polar LNG Shipping (UK) Limited        False   \n",
       "\n",
       "   Statement ID                                                URL  \\\n",
       "0       35092.0  https://img1.wsimg.com/blobby/go/7695baff-3f0f...   \n",
       "1       35092.0  https://img1.wsimg.com/blobby/go/7695baff-3f0f...   \n",
       "2       35092.0  https://img1.wsimg.com/blobby/go/7695baff-3f0f...   \n",
       "3       35092.0  https://img1.wsimg.com/blobby/go/7695baff-3f0f...   \n",
       "4       35092.0  https://img1.wsimg.com/blobby/go/7695baff-3f0f...   \n",
       "\n",
       "  Override URL Companies House Number Industry              HQ  \\\n",
       "0          NaN               05005018   Marine  United Kingdom   \n",
       "1          NaN               04830352   Marine  United Kingdom   \n",
       "2          NaN               05639474   Marine  United Kingdom   \n",
       "3          NaN                    NaN   Marine  United Kingdom   \n",
       "4          NaN               02205323   Marine  United Kingdom   \n",
       "\n",
       "  Is Also Covered UK Modern Slavery Act  \\\n",
       "0           False                  True   \n",
       "1            True                  True   \n",
       "2            True                  True   \n",
       "3            True                  True   \n",
       "4            True                  True   \n",
       "\n",
       "  California Transparency in Supply Chains Act Australia Modern Slavery Act  \\\n",
       "0                                        False                        False   \n",
       "1                                        False                        False   \n",
       "2                                        False                        False   \n",
       "3                                        False                        False   \n",
       "4                                        False                        False   \n",
       "\n",
       "  Period Covered                                               Text  \n",
       "0      2018-2019  K LINE\\nHOLDINC (EUROPE) LTD.\\nModern Slavery ...  \n",
       "1      2018-2019  K LINE\\nHOLDINC (EUROPE) LTD.\\nModern Slavery ...  \n",
       "2      2018-2019  K LINE\\nHOLDINC (EUROPE) LTD.\\nModern Slavery ...  \n",
       "3      2018-2019  K LINE\\nHOLDINC (EUROPE) LTD.\\nModern Slavery ...  \n",
       "4      2018-2019  K LINE\\nHOLDINC (EUROPE) LTD.\\nModern Slavery ...  "
      ]
     },
     "execution_count": 8,
     "metadata": {},
     "output_type": "execute_result"
    }
   ],
   "source": [
    "df.insert(loc=0, column='Row ID', value=df.index, allow_duplicates=False)\n",
    "df.head()"
   ]
  },
  {
   "cell_type": "markdown",
   "metadata": {},
   "source": [
    "# Text Cleaning"
   ]
  },
  {
   "cell_type": "code",
   "execution_count": 22,
   "metadata": {},
   "outputs": [
    {
     "name": "stderr",
     "output_type": "stream",
     "text": [
      "                                                       \r"
     ]
    },
    {
     "name": "stdout",
     "output_type": "stream",
     "text": [
      "Number of statements: 17268\n",
      "Length of vocab: 148179\n"
     ]
    },
    {
     "name": "stderr",
     "output_type": "stream",
     "text": [
      "                                        "
     ]
    },
    {
     "name": "stdout",
     "output_type": "stream",
     "text": [
      "Number of noisy statements: 1353\n",
      "Length of noisy vocab: 11115\n",
      "CPU times: user 20.6 s, sys: 16.9 ms, total: 20.6 s\n",
      "Wall time: 20.6 s\n"
     ]
    },
    {
     "name": "stderr",
     "output_type": "stream",
     "text": [
      "\r"
     ]
    }
   ],
   "source": [
    "%%time\n",
    "# mss: modern_slavery_statement\n",
    "def is_mss(statement: str) -> bool:\n",
    "    \"\"\"Classify whether given statement is modern slavery statement or not.\"\"\"\n",
    "    if re.findall(\n",
    "        r'modern|slavery|modern slavery|'\n",
    "        'supply chain|protect|human|trafficking|'\n",
    "        'supply|business|suppliers|statement|risk'\n",
    "        'act|chain|rights|labour',\n",
    "        statement.lower()):\n",
    "        return True\n",
    "    return False\n",
    "\n",
    "is_statement = df[\"Text\"].apply(lambda x: is_mss(x))\n",
    "\n",
    "def filter_mss_and_generate_vocab(\n",
    "    df: pd.core.frame.DataFrame, \n",
    "    bool_idxs: pd.core.series.Series) -> Tuple[pd.core.frame.DataFrame, Dict[str, int]]:\n",
    "    \"\"\"Filter statements by given boolean series.\"\"\"\n",
    "    df = deepcopy(df[bool_idxs].reset_index(drop=True))\n",
    "    vocab = Counter()\n",
    "    for statement in tqdm(df['Text'].values, leave=False, position=0):\n",
    "        for word in statement.lower().split():\n",
    "            vocab.update({word:1})\n",
    "\n",
    "    for word in stopwords.words('english'):\n",
    "        del vocab[word]\n",
    "\n",
    "    vocab = {word: count for word, count in sorted(\n",
    "        vocab.items(), key=lambda x: x[1], reverse=True)}\n",
    "    return df, vocab\n",
    "\n",
    "statement_df, statement_vocab = filter_mss_and_generate_vocab(df, is_statement)\n",
    "print(f\"Number of statements: {len(statement_df)}\")\n",
    "print(f\"Length of vocab: {len(statement_vocab)}\")\n",
    "\n",
    "noise_df, noise_vocab = filter_mss_and_generate_vocab(df, ~is_statement)\n",
    "print(f\"Number of noisy statements: {len(noise_df)}\")\n",
    "print(f\"Length of noisy vocab: {len(noise_vocab)}\")"
   ]
  },
  {
   "cell_type": "code",
   "execution_count": 27,
   "metadata": {},
   "outputs": [],
   "source": [
    "def clean_statement(\n",
    "    statement: str,\n",
    "    url_extractor: Optional[URLExtract]=None, \n",
    "    lemmatizer: Optional[Callable[[str], str]]=None,\n",
    "    fix_expantions: bool=True,\n",
    "    remove_stopwords: bool=True) -> str:\n",
    "    \"\"\"Clean given statement.\n",
    "    \n",
    "    1. removing urls\n",
    "    2. lowercasing \n",
    "    3. lemmatizing\n",
    "    4. removing stopwords\n",
    "    \n",
    "    Args:\n",
    "        statement : modern slavery statement\n",
    "        \n",
    "    Returns:\n",
    "        Cleaned version of statement\n",
    "    \"\"\"\n",
    "    if statement:\n",
    "        statement = statement.lower()\n",
    "    \n",
    "    # removing urls within statement\n",
    "    if statement and url_extractor is not None:\n",
    "        for url in url_extractor.find_urls(statement):\n",
    "            statement = statement.replace(url, \" \")\n",
    "            \n",
    "    # removing sentences within statement with following keywords\n",
    "    statement = \" \".join([\n",
    "        sentence for sentence in nltk.tokenize.sent_tokenize(statement) if not re.findall(\n",
    "        (r\"cookie|newsletter|facebook|twitter|signup|\"\n",
    "        \"subscribe|download|where are you travelling|do you|would you|\"\n",
    "         \"latest jobs|jacket|jackets|\\?\"), \n",
    "        sentence)])\n",
    "    \n",
    "    # lemmatizing sentence \n",
    "    if statement and lemmatizer is not None:\n",
    "        statement = lemmatizer(statement)\n",
    "        \n",
    "    cleaned_statement = []\n",
    "    if statement:\n",
    "        for token in statement.split():\n",
    "            if fix_expantions and word_expantions.get(token):\n",
    "                token = word_expantions.get(token)\n",
    "            if remove_stopwords and token in stopwords.words('english'):\n",
    "                continue\n",
    "            cleaned_statement.append(token)\n",
    "            \n",
    "    return \" \".join(cleaned_statement)"
   ]
  },
  {
   "cell_type": "code",
   "execution_count": 50,
   "metadata": {},
   "outputs": [
    {
     "name": "stderr",
     "output_type": "stream",
     "text": [
      "                          \r"
     ]
    },
    {
     "name": "stdout",
     "output_type": "stream",
     "text": [
      "Number of rows: 17268\n",
      "CPU times: user 11.7 s, sys: 5.3 s, total: 17 s\n",
      "Wall time: 12min 43s\n"
     ]
    }
   ],
   "source": [
    "%%time\n",
    "futures = {}\n",
    "results = {}\n",
    "\n",
    "url_extractor = URLExtract(extract_email=True)\n",
    "lemmatizer = CustomWordNetLemmatizer()\n",
    "\n",
    "with concurrent.futures.ProcessPoolExecutor(max_workers=os.cpu_count()-5) as executor:\n",
    "    for row_id, statement in statement_df[[\"Row ID\", \"Text\"]].values:\n",
    "        futures[executor.submit(\n",
    "            clean_statement, \n",
    "            statement, \n",
    "            url_extractor, \n",
    "            lemmatizer.lemmatize,\n",
    "        )] = row_id\n",
    "\n",
    "    for future in tqdm(concurrent.futures.as_completed(futures), leave=False, position=0):\n",
    "        results[futures[future]] = future.result()\n",
    "        \n",
    "cleaned_statements_df = pd.DataFrame.from_dict(results, orient=\"index\").reset_index()\n",
    "cleaned_statements_df.columns = [\"Row ID\", \"Cleaned Text\"]\n",
    "cleaned_statements_df.sort_values([\"Row ID\"], inplace=True)\n",
    "cleaned_statements_df.reset_index(drop=True, inplace=True)\n",
    "if \"Cleaned Text\" in statement_df.columns:\n",
    "    statement_df.drop(\"Cleaned Text\", axis=1, inplace=True)\n",
    "statement_df = pd.merge(statement_df, cleaned_statements_df, on=\"Row ID\", how=\"left\")\n",
    "del futures, results, url_extractor, lemmatizer, cleaned_statements_df\n",
    "\n",
    "print(f\"Number of rows: {len(statement_df)}\")"
   ]
  },
  {
   "cell_type": "code",
   "execution_count": 32,
   "metadata": {},
   "outputs": [
    {
     "data": {
      "text/html": [
       "<div>\n",
       "<style scoped>\n",
       "    .dataframe tbody tr th:only-of-type {\n",
       "        vertical-align: middle;\n",
       "    }\n",
       "\n",
       "    .dataframe tbody tr th {\n",
       "        vertical-align: top;\n",
       "    }\n",
       "\n",
       "    .dataframe thead th {\n",
       "        text-align: right;\n",
       "    }\n",
       "</style>\n",
       "<table border=\"1\" class=\"dataframe\">\n",
       "  <thead>\n",
       "    <tr style=\"text-align: right;\">\n",
       "      <th></th>\n",
       "      <th>Row ID</th>\n",
       "      <th>Company ID</th>\n",
       "      <th>Company</th>\n",
       "      <th>Is Publisher</th>\n",
       "      <th>Statement ID</th>\n",
       "      <th>URL</th>\n",
       "      <th>Override URL</th>\n",
       "      <th>Companies House Number</th>\n",
       "      <th>Industry</th>\n",
       "      <th>HQ</th>\n",
       "      <th>Is Also Covered</th>\n",
       "      <th>UK Modern Slavery Act</th>\n",
       "      <th>California Transparency in Supply Chains Act</th>\n",
       "      <th>Australia Modern Slavery Act</th>\n",
       "      <th>Period Covered</th>\n",
       "      <th>Text</th>\n",
       "      <th>Cleaned Text</th>\n",
       "    </tr>\n",
       "  </thead>\n",
       "  <tbody>\n",
       "    <tr>\n",
       "      <th>0</th>\n",
       "      <td>0</td>\n",
       "      <td>7676</td>\n",
       "      <td>\"K\" Line Holding Europe Limited</td>\n",
       "      <td>True</td>\n",
       "      <td>35092.0</td>\n",
       "      <td>https://img1.wsimg.com/blobby/go/7695baff-3f0f...</td>\n",
       "      <td>NaN</td>\n",
       "      <td>05005018</td>\n",
       "      <td>Marine</td>\n",
       "      <td>United Kingdom</td>\n",
       "      <td>False</td>\n",
       "      <td>True</td>\n",
       "      <td>False</td>\n",
       "      <td>False</td>\n",
       "      <td>2018-2019</td>\n",
       "      <td>K LINE\\nHOLDINC (EUROPE) LTD.\\nModern Slavery ...</td>\n",
       "      <td>k line holdinc ( europe ) ltd. modern slavery ...</td>\n",
       "    </tr>\n",
       "    <tr>\n",
       "      <th>1</th>\n",
       "      <td>1</td>\n",
       "      <td>28660</td>\n",
       "      <td>\"K\" Line Bulk Shipping (UK) Limited</td>\n",
       "      <td>False</td>\n",
       "      <td>35092.0</td>\n",
       "      <td>https://img1.wsimg.com/blobby/go/7695baff-3f0f...</td>\n",
       "      <td>NaN</td>\n",
       "      <td>04830352</td>\n",
       "      <td>Marine</td>\n",
       "      <td>United Kingdom</td>\n",
       "      <td>True</td>\n",
       "      <td>True</td>\n",
       "      <td>False</td>\n",
       "      <td>False</td>\n",
       "      <td>2018-2019</td>\n",
       "      <td>K LINE\\nHOLDINC (EUROPE) LTD.\\nModern Slavery ...</td>\n",
       "      <td>k line holdinc ( europe ) ltd. modern slavery ...</td>\n",
       "    </tr>\n",
       "    <tr>\n",
       "      <th>2</th>\n",
       "      <td>2</td>\n",
       "      <td>28659</td>\n",
       "      <td>\"K\" Line (Europe) Limited</td>\n",
       "      <td>False</td>\n",
       "      <td>35092.0</td>\n",
       "      <td>https://img1.wsimg.com/blobby/go/7695baff-3f0f...</td>\n",
       "      <td>NaN</td>\n",
       "      <td>05639474</td>\n",
       "      <td>Marine</td>\n",
       "      <td>United Kingdom</td>\n",
       "      <td>True</td>\n",
       "      <td>True</td>\n",
       "      <td>False</td>\n",
       "      <td>False</td>\n",
       "      <td>2018-2019</td>\n",
       "      <td>K LINE\\nHOLDINC (EUROPE) LTD.\\nModern Slavery ...</td>\n",
       "      <td>k line holdinc ( europe ) ltd. modern slavery ...</td>\n",
       "    </tr>\n",
       "    <tr>\n",
       "      <th>3</th>\n",
       "      <td>3</td>\n",
       "      <td>28661</td>\n",
       "      <td>\"K\" Line LNG Shipping Limited</td>\n",
       "      <td>False</td>\n",
       "      <td>35092.0</td>\n",
       "      <td>https://img1.wsimg.com/blobby/go/7695baff-3f0f...</td>\n",
       "      <td>NaN</td>\n",
       "      <td>NaN</td>\n",
       "      <td>Marine</td>\n",
       "      <td>United Kingdom</td>\n",
       "      <td>True</td>\n",
       "      <td>True</td>\n",
       "      <td>False</td>\n",
       "      <td>False</td>\n",
       "      <td>2018-2019</td>\n",
       "      <td>K LINE\\nHOLDINC (EUROPE) LTD.\\nModern Slavery ...</td>\n",
       "      <td>k line holdinc ( europe ) ltd. modern slavery ...</td>\n",
       "    </tr>\n",
       "    <tr>\n",
       "      <th>4</th>\n",
       "      <td>4</td>\n",
       "      <td>28658</td>\n",
       "      <td>Polar LNG Shipping (UK) Limited</td>\n",
       "      <td>False</td>\n",
       "      <td>35092.0</td>\n",
       "      <td>https://img1.wsimg.com/blobby/go/7695baff-3f0f...</td>\n",
       "      <td>NaN</td>\n",
       "      <td>02205323</td>\n",
       "      <td>Marine</td>\n",
       "      <td>United Kingdom</td>\n",
       "      <td>True</td>\n",
       "      <td>True</td>\n",
       "      <td>False</td>\n",
       "      <td>False</td>\n",
       "      <td>2018-2019</td>\n",
       "      <td>K LINE\\nHOLDINC (EUROPE) LTD.\\nModern Slavery ...</td>\n",
       "      <td>k line holdinc ( europe ) ltd. modern slavery ...</td>\n",
       "    </tr>\n",
       "  </tbody>\n",
       "</table>\n",
       "</div>"
      ],
      "text/plain": [
       "   Row ID  Company ID                              Company Is Publisher  \\\n",
       "0       0        7676      \"K\" Line Holding Europe Limited         True   \n",
       "1       1       28660  \"K\" Line Bulk Shipping (UK) Limited        False   \n",
       "2       2       28659            \"K\" Line (Europe) Limited        False   \n",
       "3       3       28661        \"K\" Line LNG Shipping Limited        False   \n",
       "4       4       28658      Polar LNG Shipping (UK) Limited        False   \n",
       "\n",
       "   Statement ID                                                URL  \\\n",
       "0       35092.0  https://img1.wsimg.com/blobby/go/7695baff-3f0f...   \n",
       "1       35092.0  https://img1.wsimg.com/blobby/go/7695baff-3f0f...   \n",
       "2       35092.0  https://img1.wsimg.com/blobby/go/7695baff-3f0f...   \n",
       "3       35092.0  https://img1.wsimg.com/blobby/go/7695baff-3f0f...   \n",
       "4       35092.0  https://img1.wsimg.com/blobby/go/7695baff-3f0f...   \n",
       "\n",
       "  Override URL Companies House Number Industry              HQ  \\\n",
       "0          NaN               05005018   Marine  United Kingdom   \n",
       "1          NaN               04830352   Marine  United Kingdom   \n",
       "2          NaN               05639474   Marine  United Kingdom   \n",
       "3          NaN                    NaN   Marine  United Kingdom   \n",
       "4          NaN               02205323   Marine  United Kingdom   \n",
       "\n",
       "  Is Also Covered UK Modern Slavery Act  \\\n",
       "0           False                  True   \n",
       "1            True                  True   \n",
       "2            True                  True   \n",
       "3            True                  True   \n",
       "4            True                  True   \n",
       "\n",
       "  California Transparency in Supply Chains Act Australia Modern Slavery Act  \\\n",
       "0                                        False                        False   \n",
       "1                                        False                        False   \n",
       "2                                        False                        False   \n",
       "3                                        False                        False   \n",
       "4                                        False                        False   \n",
       "\n",
       "  Period Covered                                               Text  \\\n",
       "0      2018-2019  K LINE\\nHOLDINC (EUROPE) LTD.\\nModern Slavery ...   \n",
       "1      2018-2019  K LINE\\nHOLDINC (EUROPE) LTD.\\nModern Slavery ...   \n",
       "2      2018-2019  K LINE\\nHOLDINC (EUROPE) LTD.\\nModern Slavery ...   \n",
       "3      2018-2019  K LINE\\nHOLDINC (EUROPE) LTD.\\nModern Slavery ...   \n",
       "4      2018-2019  K LINE\\nHOLDINC (EUROPE) LTD.\\nModern Slavery ...   \n",
       "\n",
       "                                        Cleaned Text  \n",
       "0  k line holdinc ( europe ) ltd. modern slavery ...  \n",
       "1  k line holdinc ( europe ) ltd. modern slavery ...  \n",
       "2  k line holdinc ( europe ) ltd. modern slavery ...  \n",
       "3  k line holdinc ( europe ) ltd. modern slavery ...  \n",
       "4  k line holdinc ( europe ) ltd. modern slavery ...  "
      ]
     },
     "execution_count": 32,
     "metadata": {},
     "output_type": "execute_result"
    }
   ],
   "source": [
    "statement_df.head()"
   ]
  },
  {
   "cell_type": "markdown",
   "metadata": {},
   "source": [
    "## Analyzing statements"
   ]
  },
  {
   "cell_type": "markdown",
   "metadata": {},
   "source": [
    "### Checking number of words in a statement as a proxy to remove non-mss\n",
    "\n"
   ]
  },
  {
   "cell_type": "code",
   "execution_count": 35,
   "metadata": {},
   "outputs": [
    {
     "data": {
      "image/png": "[encoded data removed]",
      "text/plain": [
       "<Figure size 1152x288 with 3 Axes>"
      ]
     },
     "metadata": {
      "needs_background": "light"
     },
     "output_type": "display_data"
    }
   ],
   "source": [
    "word_counts = statement_df[\"Cleaned Text\"].apply(\n",
    "    lambda x: len(x.split()) if x is not None and isinstance(x, str) else 0)\n",
    "word_counts.sort_values(inplace=True)\n",
    "\n",
    "smallest = 1000\n",
    "largest = 50\n",
    "fig, (ax1, ax2, ax3) = plt.subplots(ncols=3, figsize=(16, 4))\n",
    "plt.suptitle(\"Distribution of word counts\", x=.5, y=1.05)\n",
    "word_counts.plot.box(ax=ax1)\n",
    "ax1.set_title(f\"All statments\")\n",
    "\n",
    "word_counts.iloc[:smallest].plot.hist(ax=ax2)\n",
    "ax2.set_title(f\"Smallest {smallest} statments\")\n",
    "\n",
    "word_counts.iloc[-largest:].plot.hist(ax=ax3, bins=50)\n",
    "ax3.set_title(f\"Largest {largest} statments\")\n",
    "\n",
    "plt.show()"
   ]
  },
  {
   "cell_type": "code",
   "execution_count": 37,
   "metadata": {},
   "outputs": [
    {
     "name": "stdout",
     "output_type": "stream",
     "text": [
      "Number of statements with word count <= 100: 502\n",
      "Number of statements with word count > 10000: 18\n"
     ]
    }
   ],
   "source": [
    "min_words = 100\n",
    "max_words = 10000\n",
    "print(f\"Number of statements with word count <= {min_words}: {len(word_counts[word_counts<=min_words])}\")\n",
    "print(f\"Number of statements with word count > {max_words}: {len(word_counts[word_counts>max_words])}\")"
   ]
  },
  {
   "cell_type": "code",
   "execution_count": 48,
   "metadata": {},
   "outputs": [],
   "source": [
    "statement_df[\"Cleaned Text\"] = statement_df[\"Cleaned Text\"].apply(lambda x: x if x else \"#NA\")\n",
    "statement_df[\"Cleaned Text\"] = statement_df[\"Cleaned Text\"].apply(lambda x: x if smallest <= len(x.split()) < largest else \"#NA\")"
   ]
  },
  {
   "cell_type": "code",
   "execution_count": 49,
   "metadata": {},
   "outputs": [
    {
     "data": {
      "text/plain": [
       "17268"
      ]
     },
     "execution_count": 49,
     "metadata": {},
     "output_type": "execute_result"
    }
   ],
   "source": [
    "(statement_df[\"Cleaned Text\"]==\"#NA\").sum()"
   ]
  },
  {
   "cell_type": "code",
   "execution_count": null,
   "metadata": {},
   "outputs": [],
   "source": [
    "statement_df[\"Cleaned Text\"] = statement_df[\"Cleaned Text\"].apply(lambda x: x if min_words <= len(x.split()) < max_words else None) "
   ]
  },
  {
   "cell_type": "code",
   "execution_count": 155,
   "metadata": {},
   "outputs": [
    {
     "data": {
      "text/plain": [
       "(5520,\n",
       " 'Modern Slavery Act Statement 2018/2019\\nWm Morrison Supermarkets PLC\\nThis statement is made pursuant to section 54 of the Modern Slavery Act 2015 and covers our financial year to 03/02/2019. It details the steps that Morrisons has taken to tackle modern slavery and human trafficking\\nwithin our group businesses and supply chains.\\nModern slavery, forced labour, human trafficking and exploitation impact workers across all aspects of our global supply chain and represent an unacceptable affront to human rights. At Morrisons, we are guided by our core purpose to make and provide food we’re all proud of, where everyone’s efforts are worthwhile so more and more people can afford to enjoy eating well. Respecting the human rights of everyone involved in the sourcing, manufacture and supply of our products is key to this commitment and our customers rightly expect us to take this responsibility seriously.\\nWe are committed to playing an active role in tackling these issues and over the past two years we have continuously developed and improved our approach. Our vertically integrated structure gives us insight into the evolving risk of modern slavery offences in UK, enabling us to trial and share best practice with our suppliers. Collaboration, transparency and shared responsibility are key to engaging our suppliers, competitors and external stakeholders in the fight against modern slavery and remain the guiding principles on which our approach is founded.\\nThis is Morrisons third Modern Slavery Statement, and we made significant progress in 2018, building on previous commitments, increasing the resources available to tackling modern slavery and developing new partnerships with organisations who share our values.\\nOur modern slavery statement also covers activity at the following wholly owned subsidiaries: Farmers Boy Ltd, International Seafoods Ltd, Neerock Ltd, Rathbone Kear Ltd, Safeway (Overseas) Ltd, Safeway Stores Ltd, Wm Morrison Growers Ltd and Wm Morrison Produce Ltd.\\n\\n493\\nStores\\n\\n100k+ 10k+\\n\\nColleagues\\n\\nWorkers in our own manufacturing & logistics operations\\n\\n60+\\nSourcing countries\\n\\n1,850+\\nSuppliers tier one own-brand\\nfactories\\n\\nWm Morrison Supermarkets PLC Modern Slavery Act Statement 2018/19\\n01\\n\\n\\x0cGovernance\\nOur Corporate Compliance & Responsibility Committee (CCR) is responsible for our commitments on tackling modern slavery and managing human rights risk in our business and supply chains. Day to day management of the modern slavery programme is overseen by our Group Corporate Services Director and implemented by the Morrisons Ethical Trading team, who update the Committee regularly on the effectiveness of our approach and highlight any emerging risks.\\nOperational support in response to modern slavery in Morrisons Manufacturing and Logistics sites is provided by our Loss Prevention, Operations and People teams. We intend to increase oversight of our own operations in 2019 with the establishment of a senior level working group, chaired by a People Director, to review the effectiveness of our approach in Morrisons vertically integrated manufacturing & logistics operations.\\n\\nOur Business Structure & Supply Chains\\nMorrisons is one of the UK’s largest retailers of food, clothing and general merchandise with more than 100,000 colleagues in 493 stores, and an annual turnover of £17.7bn. In addition to our Head Office in Bradford, we have centrally controlled satellite offices for our Nutmeg Clothing business in Coalville and our Global Sourcing operations in Hong Kong. We also operate a significant wholesale business and supply retail outlets across the UK with Safeway products and national brands.\\nOur core focus on fresh food is supported by our ‘farm to fork’ business model, which is unique in the UK supermarket sector. We buy many of our fresh products directly from farmers and fishermen, process through our own abattoirs and manufacturing sites, and distribute through our own logistics network, giving us more control over the provenance and quality of the food we sell. We are the UK’s second largest fresh food manufacturer with 18 production sites and 9 distribution centres at locations throughout the UK. Our modern slavery strategy in these operations is delivered by our People team with central support from Loss Prevention, Manufacturing Operations and Corporate Services.\\nThere have been no significant changes to the structure of our business since the publication of our previous statement, except for our acquisition of the free-range egg producer Chippindale Foods in February 2018.\\n\\n18\\nWe own 18 fresh food manufacturing sites\\nacross the UK\\n\\nOur value chain\\n9\\nWe operate 9 distribution centres\\n\\n60%\\nof our fresh food produced in-house\\n\\nBuy\\n\\nMake\\n\\nMove\\n\\nWe work with thousands of suppliers both in the UK and internationally to source food commodities, ingredients as well as finished products.\\n\\nWe own 18 fresh food manufacturing sites across the UK, including our own abattoirs, where 8,000 skilled colleagues process and create the fresh products our customers see on our shelves.\\n\\nProducts are moved through our national distribution network of 1,450 trailers from manufacturing sites to our stores.\\n\\nSell\\nOur skilled butchers, bakers, cheesemongers and fishmongers provide a unique Market Street experience for our customers, selling fresh British produce on our counters.\\n\\nWm Morrison Supermarkets PLC Modern Slavery Act Statement 2018/19\\n02\\n\\n\\x0cOur Business Structure & Supply Chains continued\\nOur vertically integrated business model and increasing commitment to British and local sourcing makes us less reliant on imported goods, with over 40% of our tier one own brand supply chain now based in the UK. However, we still buy own brand products from over 60 countries and our global supply chains are complex and extensive. In addition to our in-house manufacturing, we buy own brand food, clothing and consumer goods from over 1,850 tier one factories. Suppliers provide us with information on their workforce demographic through the Supplier Ethical Data Exchange (Sedex) platform which gives us high level data we can utilise to inform our strategy:\\n\\nWe have mapped and risk assessed our tier one supply chain but recognise there is still a great deal of work to be done in the lower tiers of our supply chain where risk of modern slavery and forced labour increases. Plans are already in place to commence mapping and assessment of our fresh produce value chains to grower level where possible and we are also bringing ingredient suppliers to Morrisons Manufacturing into scope of our process and controls. Engaging our primary suppliers to take greater ownership of their supply chains is also key and through our membership of the Food Network for Ethical Trade (FNET), we will work in collaboration with other UK supermarkets and over 30 strategic suppliers to support this journey.\\n\\nAmericas 45 28,000 13,000 15,000\\n\\nOur own-brand, tier one suppliers\\n\\nUK 812 225,000 85,000 140,000\\n\\nEurope 609 144,000 65,000 79,000\\nAfrica 36 64,000 34,000 30,000\\n\\nAsia & Pacific 389 253,000 134,000 119,000\\n\\n1,891\\nTotal sites\\n\\n714,000\\nTotal workers\\n\\n331,000\\nFemale workers\\n\\nWm Morrison Supermarkets PLC Modern Slavery Act Statement 2018/19\\n03\\n\\n383,000\\nMale workers\\n\\n\\x0cOur Business Structure & Supply Chains continued\\nOwn-brand supply chain by category\\n\\nFood\\n1,420 factories\\n\\nClothing\\n177\\nfactories\\n\\nConsumer goods\\n294 factories\\n\\nDivision\\n\\nSites\\n\\nFood\\n\\n1,420\\n\\nConsumer Goods\\n\\n294\\n\\nClothing\\n\\n177\\n\\nTotal Workers 482,000\\n137,000\\n95,000\\n\\nFemale 219,000 54,000 58,000\\n\\nMale 263,000 83,000 37,000\\n\\nAgency/ Temporary 155,000\\n9,000\\n3,000\\n\\nOutside of our vertically integrated supply model, most of our business relationships are operated on an indirect basis through a UK primary supplier, with the exception of goods purchased through our Global Sourcing team in Hong Kong where we predominantly deal directly with manufacturers. We are also seeking to take greater control over the management and sourcing of our fresh produce through a continuing strategy to increase the amount of produce that we source directly from farmers.\\n\\nThis is particularly evident in our banana supply chain where we have moved from solely sourcing from multinational companies to working exclusively with smaller independent growers from 2019. 50% of this volume comes from direct relationships with the remainder being supplied through two companies who support our responsible approach to sourcing. This strategy was developed in collaboration with the NGO Bananalink and Fairtrade UK.\\nWe have also significantly increased our oversight in key sourcing regions through the recruitment of 13 internationally based ‘At Source’ Technical Managers who undertake regular visits to our farms. These colleagues were provided with training on the indicators of modern slavery and forced labour in January 2019 and we are developing an online reporting platform to enable them to communicate issues and concerns.\\n\\n1,850+\\nactive tier one factories\\nWm Morrison Supermarkets PLC Modern Slavery Act Statement 2018/19\\n04\\n\\n\\x0cOur Business Structure & Supply Chains continued\\nWe remain supportive of increased transparency in our supply chains and have delivered on our commitment to start making our tier one supply chains publicly available. We commenced a programme of work in 2018 with the publication of our Nutmeg clothing suppliers on the Morrisons Corporate website and plan to develop this further in 2019/20 by mapping the lower tiers of these supply chains and including sub-contracted operations. Over the longer term we intend to publish details of all our core supply chains but recognise that further engagement with all stakeholders in this process, including the suppliers themselves, is required before we can make further meaningful progress.\\nTransparency\\n“Full details of our tier one garment supply chain have now been published on our corporate\\nwebsite. We are working with our primary suppliers to map the\\nlower tiers and sub-contracted elements of our supply chain and will use this data to continually\\nupdate our list.”\\nModern slavery and forced labour risk in our supply chain remains linked to a workforce demographic that is susceptible to exploitative practices. Informal, temporary, seasonal, and low skilled work is prevalent throughout food supply chains, particularly in agriculture, and is commonly found in our lower tiers of supply. We acknowledge that this risk can be compounded where governments fail to protect workers’ rights and poor practice on the part of business results in a lack of responsibility in their duty of care for employees.\\n\\nBananas\\n“With support and guidance from the NGO Bananalink, we have redesigned our sourcing model to give us greater visibility of our supply chain. All our bananas are now Rainforest Alliance or Fairtrade Certified and sourced from independent growers with 50% of our volume supplied through direct grower relationships. We intend to increase this to 80% by 2021.”\\nWe are also becoming increasingly aware that in many parts of the world there are additional contributory factors which mean that women in work are at increased risk of exploitation and are conscious that this is an area where we need to build our knowledge and expertise in order to develop effective strategies for improvement. Morrisons Ethical Trading colleagues in the UK are therefore undertaking a series of dedicated Gender Learning workshops hosted by the Ethical Trading Initiative (ETI), in support of our aim to identify practical solutions to tackling gender specific issues in our supply chains.\\nFinally, as part of our strategy to provide popular and useful services for our customers, we are expanding the number of franchised hand car wash operations across our store estate. Details of our approach to managing risk in these operations can be found in the Due Diligence & Risk Assessment section of this statement.\\n\\nWm Morrison Supermarkets PLC Modern Slavery Act Statement 2018/19\\n05\\n\\n\\x0cOur Policies Related to Modern Slavery\\nWe operate several policies across our business and supply chains which are relevant to addressing modern slavery risk. All suppliers are required to comply with our Ethical Trading Code which is aligned to ILO core conventions and the Ethical Trading Initiative Base Code. We also recognise the need to uphold the UN Guiding Principles on Business and Human Rights and have aligned our Corporate Responsibility reporting with the UN Sustainable Development Goals.\\nCompliance with our Ethical Trading Code is built into our standard terms for all suppliers and includes specific commitments relating to modern slavery, forced labour and the responsible recruitment of both permanent and agency provided workers. We also require suppliers to ensure, as far as is reasonably practicable, that their suppliers, agents, labour providers and subcontractors who are directly or indirectly involved in the provision of goods comply with these requirements.\\nAll suppliers of own brand products are additionally required to demonstrate continuing compliance to our Ethical Trading Policy and implement effective action in any areas identified through third party audit as being non-compliant. Our Ethical Trading Policy is clearly communicated and will be fully revised and updated in the first half of 2019 to include further clarity on our expectations relating to modern slavery.\\nWe will build on this further in 2019 with the launch of a revised Raw Material Sourcing Policy with increased detail on respecting the human rights of workers in the lower tiers of our fresh produce supply chain, and enhanced requirements in our Vendor Assurance Policy, enabling us to map risk in the ingredient supply chains of our vertically integrated manufacturing operations.\\nTo demonstrate our commitment to supporting suppliers through modern slavery cases, we worked in collaboration with other retailers, British Retail Consortium, Stronger Together and the Gangmasters and Labour Abuse Authority (GLAA) to develop the Retailer Protocol for Handling Reported Cases of Modern Slavery in the UK Supply Chain. The protocol establishes principles of good practice and a procedural protocol for retailers in responding to reported cases of forced labour, human trafficking, debt bondage and other forms of modern slavery in their UK supply chain. Formalising our approach on this is key to improving reporting of incidents by our suppliers and enables protocol signatories to provide collaborative support.\\nWe operate an externally provided whistleblowing hotline called “Tell Us” which is available to all suppliers, enabling them to raise concerns directly and anonymously to our head office Risk and Compliance teams. In 2018 this hotline was used by a worker at one of our manufacturing sites to report a potential incident of third party labour exploitation which was subsequently investigated by our Loss Prevention team in collaboration with the Police and the Gangmasters and Labour Abuse Authority (GLAA).\\n\\nIn support of our modern slavery strategy, we have several internal policies in place to enhance our commitment to operating ethically and ensuring that all our colleagues are treated with dignity and respect, including Anti-Bribery and Corruption, Right to Work, Respect in the Workplace and Whistleblowing. These policies are regularly updated and made available to all colleagues through our online “My Morri” platform.\\nIn line with a commitment in our 2018 statement, our People team have additionally developed a “Guide to Supporting Colleagues Through Modern Slavery Issues” to provide help for all colleagues on spotting the signs of exploitation and details of the support available. Core polices and recruitment materials are now available in multiple languages.\\nInternal protocol on Preventing Modern Slavery\\nOur People team have developed a new protocol which reinforces our approach in key areas, including:\\n• Prohibiting the sourcing and supply of workers without confirming that workers are not being charged any fees in relation to that process.\\n• Ensuring that all colleagues responsible for recruitment receive training on third-party labour exploitation.\\n• Adopting a proactive and collaborative approach to reporting hidden worker exploitation to the GLAA and Police.\\n• Providing information on tackling issues to all applicable colleagues.\\n• Encouraging all colleagues and agency workers to report cases of hidden exploitation, providing them with means to do so, and making a commitment to investigate and take appropriate action.\\n• Requiring all our approved labour providers to adopt policies and procedures consistent with our own.\\nIn support of the BRC Better Retail, Better World initiative, we will also include more detail and formality around our approach to embedding responsible recruitment practices throughout our global supply chains, as part of a wider ethical trading policy review. We became founding sponsors of the Responsible Recruitment Toolkit (RRT) in early 2019 and will make training, tools and resources available to all our suppliers through this platform.\\nFinally, following engagement with the China based social enterprise, the Centre for Child Rights and Corporate Social Responsibility (CCR-CSR) we acknowledge that there is an increasing risk of child and young worker exploitation in Asia. This is being driven by a number of factors and we will address this initially through the development of a dedicated Child Labour Remediation Policy in the first half of 2019.\\n\\nWm Morrison Supermarkets PLC Modern Slavery Act Statement 2018/19\\n06\\n\\n\\x0cDue Diligence & Risk Assessment\\nOur approach to due diligence and supply chain risk assessment is guided by our Ethical Trading Policy and informed by our collaborative partnerships and established sector best practice. We seek advice and guidance from established subject experts and utilise our membership of the Ethical Trading Initiative to access NGO and Trade Union expertise.\\nWe have assessed the ongoing modern slavery risks in our supply chains based on reported incidents, country information metrics and regular consultation with external bodies. In 2018 we built on this with the creation of country level risk reporting, initially to inform the procurement process in our Produce division. This includes a high level risk assessment based on key indices such as the US Department of Justice Trafficking in Persons report, ILAB Products of Forced & Child Labour, the Walk Free Foundation Global Slavery Index, ITUC Global Rights Index and Sedex. We intend to develop this further in 2019/20, aligning our risk matrix to the one developed by the Food Network for Ethical Trade, which will ensure our approach is consistent with other UK supermarkets and major food suppliers.\\nWe have been active members of Sedex since 2013 and continue to use their system and tools to map our supply chains, assess key areas of risk and monitor improvement activity at manufacturing site level. All sites assessed as Medium or High risk are required to demonstrate compliance with our Ethical Trading Code and local law through the provision of a third party ethical audit on a risk based cycle.\\nThere were 790 audits undertaken at active sites linked to Morrisons on the Sedex platform in 2018 using either the Sedex Members Ethical Trading Audit (SMETA) or Business Social Compliance Initiative (BSCI) methodology. Our third party audit programme identified 5 tier one factories with Major, Critical or Business Critical non-compliances raised under the heading of “Employment is Freely Chosen”. The issues included:\\n• Retention of identification documents at a Malaysian food processing factory.\\n• Workers being charged unreasonable amounts for PPE and equipment in the UK.\\n• Delays in the payment of wages for colleagues seeking to leave employment.\\n• Excessive contractual notice requirements which restrict worker freedom.\\n\\nIn line with our policy we clearly communicated our expectations to these suppliers and provided support to resolve these issues where requested. One issue remained open at the end of our 2018 financial year relating to delays in payment of workers who had resigned from one of our consumer goods factories in China. Ethical Trading colleagues from our Hong Kong based Global Sourcing office are working with the supplier to resolve this issue within an agreed timeframe.\\nWe remain conscious of the limitations of social audits (especially in countries with high levels of corruption), but they remain an important component of our due diligence programme. We supplement this process through collaboration with a wide range of stakeholders and continuously increase support for new and existing multistakeholder initiatives designed to empower and mobilise our supplier base to take ownership for issues in our shared supply chains. More information on our approach can be found in the Collaborative Action section of this statement.\\nBuilding on a commitment in our 2017/18 statement to develop an unannounced site visit programme in China, we carried out 26 factory assessments on this basis last year. This was established in response to concerns over third party audit effectiveness and has given us useful insight into conditions in our factory base. Whilst we have not uncovered any clear evidence of modern slavery, our programme has highlighted continuing concerns over excessive working hours and workplace conditions that we are supporting suppliers to remedy.\\nRecognising the risks evident in the global seafood supply chain, our Aquaculture and Fisheries team continue to work with suppliers, competitors and NGOs to help to build a coherent strategy to help address modern slavery challenges in the seafood supply chains. Through engagement in programmes of work including the Global Dialogue on Seafood Traceability (GDST) and Sustainable Supply Chain Initiative (SSCI), we aim to improve and contribute to the development of a coherent system of traceability and ethical oversight.\\n\\nSupported the creation of the Responsible Car Wash Scheme\\n\\nSupported the Stronger Together Operational Performance Assessment pilot\\n\\nWm Morrison Supermarkets PLC Modern Slavery Act Statement 2018/19\\n07\\n\\n\\x0cDue Diligence & Risk Assessment continued\\nWe were reassured by the decision by the EU in January 2019 to lift Thailand’s IUU Yellow Card, demonstrating a significant improvement in the governance of their fisheries. Illegal, unreported and unregulated market conditions are an enabler of exploitation and abuse, specifically towards vulnerable migrant workers. Through our engagement with the Seafood Taskforce we supported the Thai authorities to undertake the improvements required, and will continue to monitor risk in the region through our membership of the ETI Thai Working Group.\\nSome of the most salient, and tractable risks in our supply chains continue to exist in our UK supply chains, predominantly in food processing operations and agriculture. We continue to allocate a significant percentage of the resources we have available to address modern slavery risk on these areas, with an added focus on our own Manufacturing and Logistics operations, where there is clear exposure to risk but also where we can make an immediate impact. The exploitation of both agency provided and directly employed migrant workers by an external third party remains the most likely offence typology. We investigated nine potential cases of this type within our own manufacturing and logistics operations during 2018 further details can be found in the Performance Reporting section of this statement.\\nWe continued to work in close collaboration with our labour providers, enforcement bodies, multi-stakeholder initiatives, charities and training providers to address this risk and made meaningful progress throughout our 2018 financial year. We meet regularly with the compliance team from our primary labour provider to share intelligence on potential issues and collaborate on improvements to our respective processes. We have also mapped all other suppliers of people services into our operations and updated our Procurement policy and procedure to ensure that all relevant suppliers are regularly assessed and remain compliant with all applicable legislation.\\n\\nWe took further steps in 2018 to develop due diligence and resilience in our vertically integrated UK manufacturing and logistics sites by formalising our relationship with the anti-slavery charity Hope for Justice. We commissioned three detailed modern slavery threat assessments at sites we have identified to be at increased risk of modern slavery and third party exploitation. Two of these assessments were undertaken in 2018 with a third planned for May 2019. We will build learnings from these assessments into our site development activity in 2019/20.\\nWe also continue to meet regularly with the Compliance team at the GLAA to review our approach, share information and provide updates on investigations in our supply chain. We have increased our representation at local and regional level through attendance at events hosted by both the West Yorkshire and Derby Modern Slavery Partnerships. These networks provide the opportunity for businesses, local authorities, and NGOs to review current intelligence and share best practice relevant to individual regions and local authorities. Our Loss Prevention team is also in regular contact with the National Crime Agency to further build our visibility and understanding of the UK risk environment.\\nWe are continuing to open franchised hand car washes across our estate and have always acknowledged the risks inherent in these operations. In response, we collaborated with our competitors, suppliers, and regulatory bodies including the GLAA, Police and the Environment Agency to fund and support the establishment of the Responsible Car Wash Scheme (RCWS) in 2018. The scheme and associated code of practice seeks to ensure that all member car washes operate legally, treat workers fairly and respect the environment. All our operators are required to join and we will continue to support ongoing development through our position on the RCWS Advisory Panel.\\n\\n2\\n\\n26\\n\\nUnannounced factory visits undertaken in China\\n\\n790\\n\\nEthical audits undertaken at tier one\\nfactories\\n\\nHope for Justice threat assessments\\nin Morrisons Manufacturing\\n\\nWm Morrison Supermarkets PLC Modern Slavery Act Statement 2018/19\\n08\\n\\n\\x0cTraining, Awareness & Capacity Building\\nTraining and awareness continue to be at the forefront of our approach to identifying modern slavery and building the capacity to effectively manage incidents in a way that supports positive outcomes for victims. We have developed our approach continuously since 2016 and identified three key areas of focus in our last statement, which we have successfully delivered over the past 12 months.\\nFirstly, we continued to develop the skills and knowledge of key frontline colleagues responsible for managing incidents in our business by collaborating with the GLAA and Stronger Together to develop and deliver bespoke training. This was hosted at our Bradford head office in April and attended by 48 of our Manufacturing and Logistics Site and People Managers.\\nSecondly, we completed the roll out of a revised and updated Tackling Modern Slavery resource and awareness toolkit which has now been implemented across all our sites. Our toolkit includes induction materials developed in collaboration with Stronger Together, awareness posters and worker rights leaflets for colleague engagement, incident management process guidance and worker support information.\\nThirdly, we completed the roll out of our e-learning initiative to develop awareness for line managers and supervisors in our sites. We consider these colleagues to be ideally placed to spot the often subtle indicators of modern slavery in colleagues they work closely with on a day to day basis. We have now successfully delivered this to 870 colleagues throughout our operations and carried out an impact assessment at one of our larger logistics sites. The findings of this assessment included:\\n• 96% of colleagues surveyed agreed that the training helped develop their skills in identifying cases of modern slavery.\\n• All colleagues surveyed confirmed they now understood what actions to take in the event of discovering a modern slavery incident.\\n• All colleagues surveyed agreed that the e-learning was an effective training method.\\nThe survey also demonstrated universal support for additional training, and we will investigate the possibility of developing bespoke e-learning modules with support from the Morrisons Training and Development team in 2019/20.\\n\\nHighlights\\n• 1,060 colleagues trained on modern slavery awareness to date including: • 870 e-learning • 142 Commercial colleagues (face to face) • 48 Manufacturing & HR colleagues (face to face)\\n• Developed a bespoke online Modern Slavery Toolkit for our Manufacturing and Logistics Operations\\n• Developed UK temporary accommodation guidance in collaboration with competitors, NGOs and Sedex.\\n• Organised awareness training for UK flower growers, delivered by the GLAA\\n• 150+ colleagues from suppliers in South Africa attended Stronger Together training\\nWe aim to further increase the capability of our Manufacturing and Logistics colleagues to manage incidents of modern slavery, forced labour and third party exploitation, and began this process in 2018. In conjunction with representatives from our primary labour provider, senior colleagues from our Flowerworld manufacturing site have successfully completed the Investigative Interviewing workshop delivered by the GLAA. Following positive feedback, we will seek to roll out further professional development for relevant colleagues in our People and Site Operations teams in 2019/20.\\nWe have continued to deliver our bespoke Ethical Trading and Modern Slavery Awareness workshop for key Commercial and Supply Chain colleagues and supplemented this in 2018 with dedicated induction sessions for all new starters in applicable roles. Through these workshops and additional sessions, over 142 colleagues from our UK and international teams received updated training on modern slavery relevant to their job roles.\\nThrough our sponsorship of Stronger Together, we continued to fund and promote training and awareness sessions for our applicable, UK based suppliers. We expanded on this in 2018 by supporting the development of new workshops for suppliers on “Good Practice in Handling Suspected and Reported Cases of Forced Labour” and “Tackling Modern Slavery through Purchasing Practices”. We also co-funded a trial of the Stronger Together Operational Performance Assessment at five UK food suppliers, and will seek to expand on this throughout 2019/20.\\n\\nWm Morrison Supermarkets PLC Modern Slavery Act Statement 2018/19\\n09\\n\\n\\x0cTraining, Awareness & Capacity Building continued\\nWe were founding members of the Stronger Together programme in South Africa and support its continued development through our role as steering group members. We commenced the roll out of their training offer to our produce and wine suppliers in the region in 2018 and feedback from attendees has been extremely positive. Over 60 workshops were undertaken in 2018, with 159 colleagues from 109 of our local suppliers undertaking the training throughout the year.\\nWe remain in continuous dialogue with our suppliers in Asia on the topic of modern slavery and forced labour through the Ethical Trading team based at our Global Sourcing office in Hong Kong. They have developed their awareness of issues and mitigation strategies through engagement with local and regional experts including the ETI, Mekong Club and the Centre for Child Rights and Corporate Social Responsibility (CCR-CSR). Over 182 employees from 148 of our suppliers attended our 2018 Asia Supplier Conferences in Shanghai, Shenzhen and Hong Kong and received detailed briefings on risk trends and regional modern slavery typology. We will utilise these collaborative relationships further in 2019/20 to develop more focussed training in the region and enable free access to tools, resources and expertise for all our suppliers.\\n\\nWe are British farming’s largest direct supermarket customer and one of the largest fresh food manufacturers in the UK, so support for agriculture in the UK is fundamental to our business. This is of relevance to modern slavery given the report published in 2018 by the University of Nottingham which found that only 19% of the UK Agriculture sector is compliant with the Modern Slavery Act. In response, we commenced the roll out of bespoke training for farmers, delivered by the GLAA, with a pilot session for daffodil growers in Cambridgeshire in January, and will deliver further sessions around the country throughout 2019.\\nWe have also been working in collaboration with our competitors, the ETI, the Fresh Produce Consortium and Sedex to improve standards in temporary accommodation for UK agriculture workers. This has resulted in the creation of easily accessible, best practice guidance for UK growers and small scale farmers on how to assess, improve and maintain the accommodation they provide for seasonal workers. This will be made publicly available through the Sedex platform and launched in early 2019. Plans are already in place to build on this work with further guidance for international growers, building awareness and raising standards for workers throughout our international produce supply chains.\\nFinally, as we seek to expand the scope of our modern slavery programme we have engaged with our Goods and Services Not for Resale (GSNFR) procurement team to communicate the risk in sourcing people services for our food production sites. Following a training needs analysis, we commissioned a third party expert to deliver a full day workshop on GLAA licensing requirements and the risks of non-compliance. This is being supported in 2019 with four further refresher sessions and updated internal processes to increase resilience in our UK people supply chain.\\n\\nWm Morrison Supermarkets PLC Modern Slavery Act Statement 2018/19\\n10\\n\\n\\x0cCollaborative Action\\nCollaboration with external partners plays a key role in our approach to addressing human rights risk in our supply chains. The issues we face are often complex and complicated, and our influence to leverage meaningful change can be limited. Engaging with our suppliers, competitors, NGOs, charities, Trade Unions and multistakeholder initiatives (MSIs) helps us to maximise the resource and intelligence available to support our actions and forms a key part of our strategy. In 2018 we worked with the following organisations on projects relevant to modern slavery:\\nStronger Together:\\n• We are a founder sponsor of Stronger Together and provided further support for the initiative throughout 2018. Our suppliers continued to benefit from our funded training provision which was widened in 2018 to include a new programme based in South Africa. 62 workshops were held across the major fruit and wine growing regions and over 150 employees from Morrisons suppliers attended. In the UK we supported the development of new training courses and co-funded a pilot of the Stronger Together Operational Performance Assessments at five large suppliers.\\nEthical Trading Initiative (ETI)\\n• We have been actively engaged with the ETI since 2015 and were confirmed as full members in 2018. ETI membership gives us the ability to join forces with other businesses, trade unions and civil society organisations to support wider advocacy and influence at government level in countries with systemic human rights issues. We are currently actively participating in and providing financial support for a number of ETI initiatives relevant to modern slavery and labour exploitation including:\\n• Good labour practices in Latin American horticulture • Vulnerable migrant workers in Italy • Human rights due diligence in Spain • Thailand Working Group\\n\\nSeafood Taskforce\\n• As a founder member of the Seafood Taskforce, we have continued to support the development of an industry approach to recruitment in the fishing sector by participating in their working group on Responsible Recruitment Oversight. We also contributed through supplier questionnaires to help build an understanding of existing recruitment practices across members over the past year, and used this information to shape the development of an aligned industry approach and support advocacy at national level.\\nGangmasters & Labour Abuse Authority (GLAA)\\n• We have a well established relationship with the GLAA and continued to work closely with them throughout 2018. We hold regular meetings with the GLAA Compliance team and contributed to the development of the Retailer Protocol for Handling Reported Cases of Modern Slavery in the UK Supply Chain. The GLAA additionally provided support for investigations into suspected modern slavery incidents at Morrisons Manufacturing sites and assisted us with the creation of our bespoke process for incident management.\\nWe also commissioned the GLAA to deliver bespoke training workshops in 2018 to our Manufacturing, Loss Prevention and People teams and funded dedicated modern slavery training for Daffodil growers in Cambridgeshire.\\nSeafood Ethics Action Alliance (SEA Alliance)\\n• We were founder members of the SEA Alliance in 2018, a collaboration of market facing companies with a stake in the UK seafood Sector established to share information on emerging issues, agree best practice solutions and provide a forum for pre-competitive action. The group is helping to inform and bring together supply chain actors and has already undertaken international advocacy on necessary instruments for vulnerable worker protection. We will continue to support the Alliance as we refine its work plan for the year ahead.\\n\\nWm Morrison Supermarkets PLC Modern Slavery Act Statement 2018/19\\n11\\n\\n\\x0cCollaborative Action continued\\nHope for Justice\\n• Following initial engagement in 2017, we formalised our relationship with Hope for Justice in 2018 and engaged them to undertake three modern slavery threat assessments at Morrisons Manufacturing and Logistics sites that had previously experienced potential incidents. Two of these assessments took place in 2018 with the third planned for May 2019. Both assessments have provided useful insight into the risks posed in the UK food industry and were complimentary of our work to date. Our site teams are implementing corrective action plans and we will formally review overall findings once the final assessment is complete.\\nFood Network for Ethical Trade (FNET)\\n• In January 2019 we increased our support for suppliers in the lower tiers of our supply chain by joining the Food Network for Ethical Trade. FNET is a collaborative initiative which brings together major UK supermarkets and over 30 large UK food suppliers to improve human rights in global supply chains through a common approach to managing ethical trade. The initiative provides tools, support and guidance for our tier one suppliers to assess risk in their global ingredient supply chains and take ownership for driving improvement.\\nResponsible Car Wash Scheme (RCWS)\\n• We collaborated with our competitors, suppliers, and regulatory bodies including the GLAA and Environment Agency to formally establish the Responsible Car Wash Scheme in 2018. The scheme and associated code of practice seeks to ensure that all member car washes operate legally, treat workers fairly and respects the environment. All our operators are required to join, and we are active members of the RCWS Advisory Panel.\\nMekong Club\\n• Building on a commitment from our 2018 statement, we formalised our membership of this Hong Kong based anti-slavery partnership in June and are signatories to their “Business Pledge Against Modern Slavery”. Our Global Sourcing team in Hong Kong meet regularly to discuss improvements to our regional strategy and are developing a training programme for our colleagues and suppliers for implementation in 2019/20.\\n\\nCentre for Child Rights and Corporate Social Responsibility (CCR-CSR)\\n• Following the discovery of an underage worker at one of our supplier’s factories in China, we recently engaged with CCR-CSR to strengthen our approach to tackling child labour in the region and access their remediation services. We held meetings with their team in January 2019 and plan to formally join their working group of brands and retailers later in the year.\\nApparel and General Merchandise Public Private Protocol\\n• We have joined a number of major brands and retailers in becoming a signatory to The Apparel and General Merchandise Public and Private Protocol. This commits us to work together with enforcement bodies such as the GLAA, Department for Work and Pensions (DWP), and HMRC, to tackle modern slavery in the UK Textiles Industry.\\nWe support the work of the protocol to improve and increase the intelligence provided to enforcement bodies on instances of labour exploitation and illegal practices. This improved intelligence enables us to build a better understanding of patterns of illegal activity in UK textiles, while also highlighting those who display best practice.\\nWe do not currently manufacture any Nutmeg clothing in the UK, but do not believe this is an excuse for inaction on our own doorstep. We work with UK based operations and logistics partners in order to get Nutmeg products into our stores and recognise the importance of increasing awareness of these issues throughout all tiers of the UK Textiles Industry.\\nIndirect Procurement Human Rights Forum\\n• In 2018 we joined with nine other UK retailers and suppliers to establish the Indirect Procurement Human Rights Forum. This group works collaboratively to drive positive change and reinforce the human rights of workers in indirect procurement supply chains including security, cleaning, catering services, transport and waste management. Many of these sectors are recognised targets for exploiters due to the typical worker profile.\\nThis year the Forum focused on increasing transparency of indirect supply chains by improving the capability of the Sedex platform to share responsible sourcing information with customers. The group contributed to revisions of the current self-assessment questionnaire (SAQ), making it more relevant to service providers, ahead of its launch in the second half of 2019.\\nWe also developed a Minimum Standards for Labour Providers, outlining our shared expectations for suppliers of indirect labour. This includes measures to help prevent the occurrence of labour exploitation, modern slavery and human trafficking in their supply chains. Our labour providers will be asked to demonstrate their commitment to meeting these standards on a regular basis.\\n\\nWm Morrison Supermarkets PLC Modern Slavery Act Statement 2018/19\\n12\\n\\n\\x0cPerformance Reporting\\nIn line with our first two statements we continue to measure our performance based on four indicators:\\n• Reported incidences of modern slavery in our supply chains and our response - see below.\\n• Third party ethical audits undertaken on our own brand and exclusive sites - see Risk Assessment and Due Diligence section\\n• Colleagues and suppliers who have undertaken modern slavery awareness training - see Training, Awareness & Capacity Building section\\n• Collaborative improvement action undertaken in specific areas of our supply chain - see Collaborative Action section\\nData from the UK Annual Report on Modern Slavery in the UK, and updated estimates from the Global Slavery Index both point to a continued increase in potential victims and reported cases of modern slavery offences, and this has been clearly evidenced through findings in our vertically integrated operations.\\nWe have significantly developed our resilience at Morrisons sites and have integrated our incident management process into the wider Business Continuity programme. This has increased the profile of modern slavery throughout Morrisons Manufacturing and encourages all sites to take a more proactive approach to preparing for potential incidents. This approach also ensures that detailed postincident reviews (PIRs) are undertaken following modern slavery related incidents at our sites and the findings used to drive continuous improvement.\\nFollowing a suspected incident at our Flowerworld site in April, the PIR led to the development and roll out of a detailed Modern Slavery Incident Management process and accompanying documentation, tailored specifically for our business. This has been reviewed by Hope for Justice and the GLAA and trialled during potential incidents on site. We will continue to develop this document and process throughout 2019 and aim to produce a generic version that can be shared with our suppliers and tailored to their individual requirements.\\n\\nWe identified 9 suspected cases of modern in 2018/19 and conducted detailed investigations with the support of both our internal Loss Prevention team and the GLAA. These incidents typically related to the exploitation of both agency and directly employed workers by an external third party. Across the 9 cases investigated, we identified 10 potential victims of offences including extortion, forced labour, unlicensed gangmaster activity and imposter switching. Victims originated from Romania (7), Slovakia (1), Bulgaria (1) and the UK (1). The GLAA and Police were directly involved in 6 of the investigations, and the remaining cases were resolved by our People teams without the requirement for external support.\\nWe were additionally made aware by Derbyshire Police that several victims identified through Operation Doubrava, a major international modern slavery and human trafficking investigation, had at some point been employed at one of our sites via an agency labour provider. We attended a detailed briefing on this operation along with our primary labour provider and will act on the recommendations they have identified.\\nFor the first time, we have also uncovered two alleged cases of domestic abuse with potential crossover into controlling behaviour and forced labour. In response to this, our People team are developing a policy to clarify and communicate our support services for vulnerable individuals, including victims of domestic abuse.\\nWhilst none of the 9 suspected incidents we identified led to formal prosecution or victims entering the National Referral Mechanism (NRM), the increase in volume of potential cases is a trend that we take very seriously. We do however consider an increase in the amount of reported incidents to be causally linked to our work on building awareness and understanding of modern slavery across our sites. Our plan to further develop internal capacity to manage incidents and mitigate impact reflects our expectation for this trend to continue throughout 2019/20.\\nWe are also reassured that workers in our Manufacturing and Logistics operations feel empowered to approach our management teams for assistance, and have faith in our ability to provide support and remediation. This reflects positively on the effectiveness of our continuous engagement with colleagues on these issues.\\n\\nWm Morrison Supermarkets PLC Modern Slavery Act Statement 2018/19\\n13\\n\\n\\x0cNext Steps\\nProgress against the next steps detailed in our 2017/18 statement:\\n\\nCommitment\\nPartner with an external expert to undertake independent modern slavery risk assessment at key manufacturing sites\\n\\nComplete\\n\\nDeliver bespoke training in collaboration with the GLAA and Stronger Together to key frontline personnel\\n\\nDevelop a bespoke Morrisons Modern Slavery toolkit for implementation at our own sites\\n\\nReview the effectiveness of our e-learning modules and implementing improvements\\n\\nCollaborate with our Loss Prevention, Business Continuity, People & Manufacturing Operations teams to develop and implement sector leading incident management procedures\\nPublish details of our global garment supply chain\\n\\nExpand our involvement in collaborative action overseas through global multi stakeholder initiatives. including the Mekong Club in Asia, Stronger Together in South Africa and the ETI working group in Peru\\nEmbed the employer pays principle with our tier one suppliers to reinforce the importance of responsible recruitment practices\\n\\nSupport the roll out of a hand car wash registration scheme to increase public awareness of the practices associated with unregulated operators\\n\\nComment\\nWe engaged the anti-slavery organisation Hope for Justice to carry out threat assessments at our highest risk sites.\\nFull training day delivered by the GLAA and Stronger Together to our HR and Manufacturing Managers in April 2018.\\nToolkit developed and rolled out to all sites in 2018.\\nTraining impact assessment undertaken in our Logistics business. See Training, Awareness & Capacity Building section for more detail.\\nDetailed process developed and built into our Business Continuity incident management function. Reviewed by the GLAA and implemented at all Morrisons Manufacturing & Logistics sites.\\nFull tier one supply chain details published on the Morrisons Corporate website. Work underway on mapping lower tiers and sub-contract operations.\\nConfirmed membership of the Mekong Club and signed their business pledge. Signatories to the BRC Protocol on Reporting Modern Slavery and steering group members of Stronger Together South Africa.\\nWe committed to be founding sponsors of the Responsible Recruitment Toolkit and will use this platform as a foundation for embedding the employer pays principle throughout 2019/20 in line with our commitment to the BRC Better Retail, Better World initiative.\\nFounding member of the Responsible Car Wash Scheme, developed in collaboration with the GLAA, HMRC, HSE and EA. Pilot carried out in January ahead of national roll out in 2019.\\n\\nWm Morrison Supermarkets PLC Modern Slavery Act Statement 2018/19\\n14\\n\\n\\x0cNew Objectives\\nOur core objective over the medium term remains to continuously reduce the risk of modern slavery, forced labour and third party exploitation in our own operations, whilst improving outcomes for victims. We will deliver meaningful progress against this in 2019/20 by:\\n• Establishing a Manufacturing & Logistics Modern Slavery Working Group with representation from key internal stakeholders and chaired by a People Director.\\n• Delivering bespoke training on managing modern slavery incidents to Manufacturing & Logistics Site Managers and People Managers.\\n• Developing a formal remediation policy and process for victims of modern slavery in our business. We will continue to strengthen our approach to tackling modern slavery in our wider supply chains through:\\n• Developing and communicating a child labour remediation policy. • Expanding visibility of supply chain into lower tiers of Produce and Manufacturing. • Collaborating with the GLAA to fund and deliver further modern slavery awareness training to UK growers. • Developing online monitoring and reporting tools to enable our At Source colleagues to monitor conditions\\nin our global Produce supply chain. • Mapping the tier two suppliers in our garment and apparel supply chain. • Supporting key suppliers in high risk regions with additional training, awareness and capacity building activity. • Increased oversight of labour providers in Morrisons Manufacturing & Logistics through updated procurement\\npractice and continuous monitoring. • Utilising collaborative partnerships to embed responsible recruitment policy and practice in our business and\\nsupply chain. This statement was approved by the board of Wm Morrison Supermarkets plc on 02/05/2019. Signed\\nDavid Potts, Chief Executive\\nWm Morrison Supermarkets PLC Modern Slavery Act Statement 2018/19\\n15\\n\\n\\x0c')"
      ]
     },
     "execution_count": 155,
     "metadata": {},
     "output_type": "execute_result"
    }
   ],
   "source": [
    " len(statement_df[\"Cleaned Text\"].loc[x.iloc[-largest-1:-largest].index[0]].split()), statement_df[\"Text\"].loc[x.iloc[-largest-1:-largest].index[0]]"
   ]
  },
  {
   "cell_type": "code",
   "execution_count": null,
   "metadata": {},
   "outputs": [
    {
     "data": {
      "text/html": [
       "<div>\n",
       "<style scoped>\n",
       "    .dataframe tbody tr th:only-of-type {\n",
       "        vertical-align: middle;\n",
       "    }\n",
       "\n",
       "    .dataframe tbody tr th {\n",
       "        vertical-align: top;\n",
       "    }\n",
       "\n",
       "    .dataframe thead th {\n",
       "        text-align: right;\n",
       "    }\n",
       "</style>\n",
       "<table border=\"1\" class=\"dataframe\">\n",
       "  <thead>\n",
       "    <tr style=\"text-align: right;\">\n",
       "      <th></th>\n",
       "      <th>URL</th>\n",
       "      <th>final_statement_cleaned</th>\n",
       "    </tr>\n",
       "  </thead>\n",
       "  <tbody>\n",
       "    <tr>\n",
       "      <th>0</th>\n",
       "      <td>https://img1.wsimg.com/blobby/go/7695baff-3f0f...</td>\n",
       "      <td>holdinc europe ltd modern slavery act transpar...</td>\n",
       "    </tr>\n",
       "    <tr>\n",
       "      <th>10</th>\n",
       "      <td>https://1spatial.com/who-we-are/legal/modern-s...</td>\n",
       "      <td>independent research edison investments modern...</td>\n",
       "    </tr>\n",
       "    <tr>\n",
       "      <th>11</th>\n",
       "      <td>https://www.shazans.com/slavery-and-human-traf...</td>\n",
       "      <td>slavery human trafficking statement slavery hu...</td>\n",
       "    </tr>\n",
       "    <tr>\n",
       "      <th>12</th>\n",
       "      <td>https://www.business-humanrights.org/sites/def...</td>\n",
       "      <td>modern slavery atement modern slavery atement ...</td>\n",
       "    </tr>\n",
       "    <tr>\n",
       "      <th>13</th>\n",
       "      <td>https://www.2agriculture.com/wp-content/upload...</td>\n",
       "      <td>modern slavery act slavery human trafficking s...</td>\n",
       "    </tr>\n",
       "    <tr>\n",
       "      <th>14</th>\n",
       "      <td>https://www.2agriculture.com/wp-content/upload...</td>\n",
       "      <td>modern slavery act slavery human trafficking s...</td>\n",
       "    </tr>\n",
       "  </tbody>\n",
       "</table>\n",
       "</div>"
      ],
      "text/plain": [
       "                                                  URL  \\\n",
       "0   https://img1.wsimg.com/blobby/go/7695baff-3f0f...   \n",
       "10  https://1spatial.com/who-we-are/legal/modern-s...   \n",
       "11  https://www.shazans.com/slavery-and-human-traf...   \n",
       "12  https://www.business-humanrights.org/sites/def...   \n",
       "13  https://www.2agriculture.com/wp-content/upload...   \n",
       "14  https://www.2agriculture.com/wp-content/upload...   \n",
       "\n",
       "                              final_statement_cleaned  \n",
       "0   holdinc europe ltd modern slavery act transpar...  \n",
       "10  independent research edison investments modern...  \n",
       "11  slavery human trafficking statement slavery hu...  \n",
       "12  modern slavery atement modern slavery atement ...  \n",
       "13  modern slavery act slavery human trafficking s...  \n",
       "14  modern slavery act slavery human trafficking s...  "
      ]
     },
     "execution_count": 211,
     "metadata": {},
     "output_type": "execute_result"
    }
   ],
   "source": [
    "subset_data = data[data[\"final_statement_cleaned\"]!=\"#NA\"][[\"URL\", \"final_statement_cleaned\"]].copy()\n",
    "subset_data.drop_duplicates(subset=\"URL\", inplace=True)\n",
    "subset_data.head(6)"
   ]
  },
  {
   "cell_type": "markdown",
   "metadata": {},
   "source": [
    "# Lemmatizing"
   ]
  },
  {
   "cell_type": "code",
   "execution_count": null,
   "metadata": {},
   "outputs": [
    {
     "name": "stderr",
     "output_type": "stream",
     "text": [
      "100%|███████████████████████████████████████████████████████████████████████████| 11967/11967 [00:43<00:00, 275.04it/s]\n"
     ]
    }
   ],
   "source": [
    "lemmatizer = WordNetLemmatizer() # wordnet lemmatizer object\n",
    "cleaned_statements = []\n",
    "for statement in tqdm(subset_data[\"final_statement_cleaned\"], position=0, leave=True):\n",
    "    cleaned_statements.append(\n",
    "        \" \".join(\n",
    "            lemmatizer.lemmatize(word, pos=\"v\") for word in statement.split()))"
   ]
  },
  {
   "cell_type": "code",
   "execution_count": null,
   "metadata": {},
   "outputs": [
    {
     "name": "stderr",
     "output_type": "stream",
     "text": [
      "100%|██████████████████████████████████████████████████████████████████████████| 11967/11967 [00:06<00:00, 1733.49it/s]\n"
     ]
    }
   ],
   "source": [
    "word_sizes = {}\n",
    "vocab = {}\n",
    "for statement in tqdm(cleaned_statements, position=0, leave=True):\n",
    "    for word in statement.split():\n",
    "        size = len(word)\n",
    "        if word not in vocab:\n",
    "            vocab[word] = 1\n",
    "        else:\n",
    "            vocab[word] += 1\n",
    "        if size not in word_sizes:\n",
    "            word_sizes[size] = 1\n",
    "        else:\n",
    "            word_sizes[size] += 1"
   ]
  },
  {
   "cell_type": "code",
   "execution_count": null,
   "metadata": {},
   "outputs": [],
   "source": [
    "word_sizes = sort_dict(word_sizes, by=0)"
   ]
  },
  {
   "cell_type": "code",
   "execution_count": 218,
   "metadata": {},
   "outputs": [
    {
     "name": "stdout",
     "output_type": "stream",
     "text": [
      "Total vocab size: 54691, total distinct word sizes: 85\n"
     ]
    }
   ],
   "source": [
    "print(f\"Total vocab size: {len(vocab)}, total distinct word sizes: {len(word_sizes)}\")"
   ]
  },
  {
   "cell_type": "code",
   "execution_count": 219,
   "metadata": {},
   "outputs": [
    {
     "data": {
      "image/png": "[encoded data removed]",
      "text/plain": [
       "<Figure size 432x288 with 1 Axes>"
      ]
     },
     "metadata": {
      "needs_background": "light"
     },
     "output_type": "display_data"
    }
   ],
   "source": [
    "fig, ax = plt.subplots()\n",
    "ax.bar(word_sizes.keys(), word_sizes.values())\n",
    "ax.set_xlabel(\"word size\")\n",
    "ax.set_ylabel(\"count\")\n",
    "plt.show()"
   ]
  },
  {
   "cell_type": "code",
   "execution_count": 220,
   "metadata": {},
   "outputs": [
    {
     "data": {
      "image/png": "[encoded data removed]",
      "text/plain": [
       "<Figure size 432x288 with 1 Axes>"
      ]
     },
     "metadata": {
      "needs_background": "light"
     },
     "output_type": "display_data"
    }
   ],
   "source": [
    "fig, ax = plt.subplots()\n",
    "ax.bar(list(word_sizes.keys())[:20], list(word_sizes.values())[:20])\n",
    "ax.set_xlabel(\"word size\")\n",
    "ax.set_ylabel(\"count\")\n",
    "ax.xaxis.set_major_locator(MaxNLocator(integer=True))\n",
    "plt.show()"
   ]
  },
  {
   "cell_type": "markdown",
   "metadata": {},
   "source": [
    "From above plot, it seems like max word size can be restricted to 15 and min word size to 2"
   ]
  },
  {
   "cell_type": "code",
   "execution_count": 221,
   "metadata": {},
   "outputs": [],
   "source": [
    "MIN_WORD_SIZE = 2\n",
    "MAX_WORD_SIZE = 15"
   ]
  },
  {
   "cell_type": "code",
   "execution_count": 222,
   "metadata": {},
   "outputs": [
    {
     "name": "stderr",
     "output_type": "stream",
     "text": [
      "100%|██████████████████████████████████████████████████████████████████████████| 11967/11967 [00:02<00:00, 5634.17it/s]\n"
     ]
    }
   ],
   "source": [
    "temp_cleaned_statements = []\n",
    "for statement in tqdm(cleaned_statements, position=0, leave=True):\n",
    "    temp_cleaned_statements.append(\n",
    "        \" \".join([word for word in statement.split() \n",
    "                  if MIN_WORD_SIZE <= len(word) <= MAX_WORD_SIZE]))\n",
    "cleaned_statements = deepcopy(temp_cleaned_statements)"
   ]
  },
  {
   "cell_type": "code",
   "execution_count": 223,
   "metadata": {},
   "outputs": [
    {
     "name": "stderr",
     "output_type": "stream",
     "text": [
      "100%|██████████████████████████████████████████████████████████████████████████| 11967/11967 [00:06<00:00, 1777.10it/s]\n"
     ]
    }
   ],
   "source": [
    "sub_word_sizes = {}\n",
    "sub_vocab = {}\n",
    "for statement in tqdm(cleaned_statements, position=0, leave=True):\n",
    "    for word in statement.split():\n",
    "        size = len(word)\n",
    "        if word not in sub_vocab:\n",
    "            sub_vocab[word] = 1\n",
    "        else:\n",
    "            sub_vocab[word] += 1\n",
    "        if size not in sub_word_sizes:\n",
    "            sub_word_sizes[size] = 1\n",
    "        else:\n",
    "            sub_word_sizes[size] += 1"
   ]
  },
  {
   "cell_type": "code",
   "execution_count": 224,
   "metadata": {},
   "outputs": [],
   "source": [
    "sub_word_sizes = sort_dict(sub_word_sizes, by=0)\n",
    "sub_vocab = sort_dict(sub_vocab, by=1, reverse=True)"
   ]
  },
  {
   "cell_type": "code",
   "execution_count": 225,
   "metadata": {},
   "outputs": [
    {
     "name": "stdout",
     "output_type": "stream",
     "text": [
      "Total vocab size: 52443, total distinct word sizes: 14\n"
     ]
    }
   ],
   "source": [
    "print(f\"Total vocab size: {len(sub_vocab)}, total distinct word sizes: {len(sub_word_sizes)}\")"
   ]
  },
  {
   "cell_type": "code",
   "execution_count": 229,
   "metadata": {},
   "outputs": [],
   "source": [
    "subset_data[\"final_statement_cleaned_2\"] = cleaned_statements"
   ]
  },
  {
   "cell_type": "code",
   "execution_count": 230,
   "metadata": {},
   "outputs": [
    {
     "data": {
      "text/html": [
       "<div>\n",
       "<style scoped>\n",
       "    .dataframe tbody tr th:only-of-type {\n",
       "        vertical-align: middle;\n",
       "    }\n",
       "\n",
       "    .dataframe tbody tr th {\n",
       "        vertical-align: top;\n",
       "    }\n",
       "\n",
       "    .dataframe thead th {\n",
       "        text-align: right;\n",
       "    }\n",
       "</style>\n",
       "<table border=\"1\" class=\"dataframe\">\n",
       "  <thead>\n",
       "    <tr style=\"text-align: right;\">\n",
       "      <th></th>\n",
       "      <th>URL</th>\n",
       "      <th>final_statement_cleaned</th>\n",
       "      <th>final_statement_cleaned_2</th>\n",
       "    </tr>\n",
       "  </thead>\n",
       "  <tbody>\n",
       "    <tr>\n",
       "      <th>0</th>\n",
       "      <td>https://img1.wsimg.com/blobby/go/7695baff-3f0f...</td>\n",
       "      <td>holdinc europe ltd modern slavery act transpar...</td>\n",
       "      <td>holdinc europe ltd modern slavery act transpar...</td>\n",
       "    </tr>\n",
       "    <tr>\n",
       "      <th>10</th>\n",
       "      <td>https://1spatial.com/who-we-are/legal/modern-s...</td>\n",
       "      <td>independent research edison investments modern...</td>\n",
       "      <td>independent research edison investments modern...</td>\n",
       "    </tr>\n",
       "    <tr>\n",
       "      <th>11</th>\n",
       "      <td>https://www.shazans.com/slavery-and-human-traf...</td>\n",
       "      <td>slavery human trafficking statement slavery hu...</td>\n",
       "      <td>slavery human traffic statement slavery human ...</td>\n",
       "    </tr>\n",
       "    <tr>\n",
       "      <th>12</th>\n",
       "      <td>https://www.business-humanrights.org/sites/def...</td>\n",
       "      <td>modern slavery atement modern slavery atement ...</td>\n",
       "      <td>modern slavery atement modern slavery atement ...</td>\n",
       "    </tr>\n",
       "    <tr>\n",
       "      <th>13</th>\n",
       "      <td>https://www.2agriculture.com/wp-content/upload...</td>\n",
       "      <td>modern slavery act slavery human trafficking s...</td>\n",
       "      <td>modern slavery act slavery human traffic state...</td>\n",
       "    </tr>\n",
       "  </tbody>\n",
       "</table>\n",
       "</div>"
      ],
      "text/plain": [
       "                                                  URL  \\\n",
       "0   https://img1.wsimg.com/blobby/go/7695baff-3f0f...   \n",
       "10  https://1spatial.com/who-we-are/legal/modern-s...   \n",
       "11  https://www.shazans.com/slavery-and-human-traf...   \n",
       "12  https://www.business-humanrights.org/sites/def...   \n",
       "13  https://www.2agriculture.com/wp-content/upload...   \n",
       "\n",
       "                              final_statement_cleaned  \\\n",
       "0   holdinc europe ltd modern slavery act transpar...   \n",
       "10  independent research edison investments modern...   \n",
       "11  slavery human trafficking statement slavery hu...   \n",
       "12  modern slavery atement modern slavery atement ...   \n",
       "13  modern slavery act slavery human trafficking s...   \n",
       "\n",
       "                            final_statement_cleaned_2  \n",
       "0   holdinc europe ltd modern slavery act transpar...  \n",
       "10  independent research edison investments modern...  \n",
       "11  slavery human traffic statement slavery human ...  \n",
       "12  modern slavery atement modern slavery atement ...  \n",
       "13  modern slavery act slavery human traffic state...  "
      ]
     },
     "execution_count": 230,
     "metadata": {},
     "output_type": "execute_result"
    }
   ],
   "source": [
    "subset_data.head()"
   ]
  },
  {
   "cell_type": "markdown",
   "metadata": {},
   "source": [
    "# Generating similarity score between statements"
   ]
  },
  {
   "cell_type": "code",
   "execution_count": 231,
   "metadata": {},
   "outputs": [],
   "source": [
    "N_GRAM = (1, 1)\n",
    "count_vect = CountVectorizer(ngram_range=N_GRAM)\n",
    "X = count_vect.fit_transform(subset_data[\"final_statement_cleaned_2\"])"
   ]
  },
  {
   "cell_type": "code",
   "execution_count": 232,
   "metadata": {},
   "outputs": [
    {
     "name": "stdout",
     "output_type": "stream",
     "text": [
      "Count vector shape: (11967, 52443)\n"
     ]
    }
   ],
   "source": [
    "print(f\"Count vector shape: {X.shape}\")"
   ]
  },
  {
   "cell_type": "code",
   "execution_count": 233,
   "metadata": {},
   "outputs": [],
   "source": [
    "similarity_matrix = cosine_similarity(X, X)"
   ]
  },
  {
   "cell_type": "markdown",
   "metadata": {},
   "source": [
    "# Tagging almost duplicate statements using similarity score"
   ]
  },
  {
   "cell_type": "code",
   "execution_count": 240,
   "metadata": {},
   "outputs": [
    {
     "name": "stderr",
     "output_type": "stream",
     "text": [
      "100%|██████████████████████████████████████████████████████████████████████████| 11967/11967 [00:02<00:00, 4468.60it/s]\n"
     ]
    }
   ],
   "source": [
    "DUPLICATE_SIMILARITY_SCORE_THRESHOLD = .99\n",
    "n = X.shape[0]\n",
    "dup_mapping = {} \n",
    "dup_idxs = []\n",
    "for idx in tqdm(range(n), position=0, leave=True):\n",
    "    if idx not in dup_idxs:\n",
    "        idxs = np.argwhere(similarity_matrix[idx][idx+1:] > DUPLICATE_SIMILARITY_SCORE_THRESHOLD).ravel()\n",
    "        if len(idxs) > 0:\n",
    "            idxs += idx+1 # shifting\n",
    "            dup_mapping[idx] = idxs\n",
    "            dup_idxs += list(idxs)"
   ]
  },
  {
   "cell_type": "code",
   "execution_count": 268,
   "metadata": {},
   "outputs": [
    {
     "name": "stdout",
     "output_type": "stream",
     "text": [
      "Found 1191 out of 11967 with 99.0% duplicacy\n"
     ]
    }
   ],
   "source": [
    "print(f\"Found {len(dup_idxs)} out of {len(subset_data)} with {DUPLICATE_SIMILARITY_SCORE_THRESHOLD*100}% duplicacy\")"
   ]
  },
  {
   "cell_type": "code",
   "execution_count": 253,
   "metadata": {},
   "outputs": [
    {
     "name": "stderr",
     "output_type": "stream",
     "text": [
      "100%|██████████████████████████████████████████████████████████████████████████| 11967/11967 [00:04<00:00, 2888.48it/s]\n"
     ]
    }
   ],
   "source": [
    "subset_data[f\"{DUPLICATE_SIMILARITY_SCORE_THRESHOLD}%dup\"] = [True if idx in dup_idxs else False for idx in tqdm(range(n))]"
   ]
  },
  {
   "cell_type": "code",
   "execution_count": 255,
   "metadata": {},
   "outputs": [
    {
     "data": {
      "text/html": [
       "<div>\n",
       "<style scoped>\n",
       "    .dataframe tbody tr th:only-of-type {\n",
       "        vertical-align: middle;\n",
       "    }\n",
       "\n",
       "    .dataframe tbody tr th {\n",
       "        vertical-align: top;\n",
       "    }\n",
       "\n",
       "    .dataframe thead th {\n",
       "        text-align: right;\n",
       "    }\n",
       "</style>\n",
       "<table border=\"1\" class=\"dataframe\">\n",
       "  <thead>\n",
       "    <tr style=\"text-align: right;\">\n",
       "      <th></th>\n",
       "      <th>URL</th>\n",
       "      <th>final_statement_cleaned</th>\n",
       "      <th>final_statement_cleaned_2</th>\n",
       "      <th>0.99%dup</th>\n",
       "    </tr>\n",
       "  </thead>\n",
       "  <tbody>\n",
       "    <tr>\n",
       "      <th>0</th>\n",
       "      <td>https://img1.wsimg.com/blobby/go/7695baff-3f0f...</td>\n",
       "      <td>holdinc europe ltd modern slavery act transpar...</td>\n",
       "      <td>holdinc europe ltd modern slavery act transpar...</td>\n",
       "      <td>False</td>\n",
       "    </tr>\n",
       "    <tr>\n",
       "      <th>10</th>\n",
       "      <td>https://1spatial.com/who-we-are/legal/modern-s...</td>\n",
       "      <td>independent research edison investments modern...</td>\n",
       "      <td>independent research edison investments modern...</td>\n",
       "      <td>False</td>\n",
       "    </tr>\n",
       "    <tr>\n",
       "      <th>11</th>\n",
       "      <td>https://www.shazans.com/slavery-and-human-traf...</td>\n",
       "      <td>slavery human trafficking statement slavery hu...</td>\n",
       "      <td>slavery human traffic statement slavery human ...</td>\n",
       "      <td>False</td>\n",
       "    </tr>\n",
       "    <tr>\n",
       "      <th>12</th>\n",
       "      <td>https://www.business-humanrights.org/sites/def...</td>\n",
       "      <td>modern slavery atement modern slavery atement ...</td>\n",
       "      <td>modern slavery atement modern slavery atement ...</td>\n",
       "      <td>False</td>\n",
       "    </tr>\n",
       "    <tr>\n",
       "      <th>13</th>\n",
       "      <td>https://www.2agriculture.com/wp-content/upload...</td>\n",
       "      <td>modern slavery act slavery human trafficking s...</td>\n",
       "      <td>modern slavery act slavery human traffic state...</td>\n",
       "      <td>False</td>\n",
       "    </tr>\n",
       "  </tbody>\n",
       "</table>\n",
       "</div>"
      ],
      "text/plain": [
       "                                                  URL  \\\n",
       "0   https://img1.wsimg.com/blobby/go/7695baff-3f0f...   \n",
       "10  https://1spatial.com/who-we-are/legal/modern-s...   \n",
       "11  https://www.shazans.com/slavery-and-human-traf...   \n",
       "12  https://www.business-humanrights.org/sites/def...   \n",
       "13  https://www.2agriculture.com/wp-content/upload...   \n",
       "\n",
       "                              final_statement_cleaned  \\\n",
       "0   holdinc europe ltd modern slavery act transpar...   \n",
       "10  independent research edison investments modern...   \n",
       "11  slavery human trafficking statement slavery hu...   \n",
       "12  modern slavery atement modern slavery atement ...   \n",
       "13  modern slavery act slavery human trafficking s...   \n",
       "\n",
       "                            final_statement_cleaned_2  0.99%dup  \n",
       "0   holdinc europe ltd modern slavery act transpar...     False  \n",
       "10  independent research edison investments modern...     False  \n",
       "11  slavery human traffic statement slavery human ...     False  \n",
       "12  modern slavery atement modern slavery atement ...     False  \n",
       "13  modern slavery act slavery human traffic state...     False  "
      ]
     },
     "execution_count": 255,
     "metadata": {},
     "output_type": "execute_result"
    }
   ],
   "source": [
    "subset_data.head()"
   ]
  },
  {
   "cell_type": "code",
   "execution_count": 256,
   "metadata": {},
   "outputs": [],
   "source": [
    "subset_data.to_excel(f\"{SHEETS_PATH}\\\\subset_data.xlsx\", index=False)"
   ]
  },
  {
   "cell_type": "code",
   "execution_count": 265,
   "metadata": {},
   "outputs": [
    {
     "data": {
      "text/plain": [
       "(50, array([51], dtype=int64))"
      ]
     },
     "execution_count": 265,
     "metadata": {},
     "output_type": "execute_result"
    }
   ],
   "source": [
    "list(dup_mapping.items())[2]"
   ]
  },
  {
   "cell_type": "code",
   "execution_count": 266,
   "metadata": {},
   "outputs": [
    {
     "data": {
      "text/plain": [
       "'document op issue date revision modern slavery human traffic policy introduction accordance modern s'"
      ]
     },
     "execution_count": 266,
     "metadata": {},
     "output_type": "execute_result"
    }
   ],
   "source": [
    "subset_data[\"final_statement_cleaned_2\"].iloc[50][:100]"
   ]
  },
  {
   "cell_type": "code",
   "execution_count": 267,
   "metadata": {},
   "outputs": [
    {
     "data": {
      "text/plain": [
       "'document op issue date revision modern slavery human traffic policy introduction accordance modern s'"
      ]
     },
     "execution_count": 267,
     "metadata": {},
     "output_type": "execute_result"
    }
   ],
   "source": [
    "subset_data[\"final_statement_cleaned_2\"].iloc[51][:100]"
   ]
  },
  {
   "cell_type": "code",
   "execution_count": 249,
   "metadata": {},
   "outputs": [
    {
     "data": {
      "text/plain": [
       "('https://www.ajnsteelstock.co.uk/wp-content/uploads/2019/04/OP008-Modern-Slavery-and-Human-Trafficking-Policy-Reviewed-04.04.2019.pdf',\n",
       " 'https://www.ajnsteelstock.co.uk/wp-content/uploads/2016/11/OP008-Modern-Slavery-and-Human-Trafficking-Policy.pdf')"
      ]
     },
     "execution_count": 249,
     "metadata": {},
     "output_type": "execute_result"
    }
   ],
   "source": [
    "subset_data[\"URL\"].iloc[50], subset_data[\"URL\"].iloc[51]"
   ]
  },
  {
   "cell_type": "code",
   "execution_count": null,
   "metadata": {},
   "outputs": [],
   "source": []
  },
  {
   "cell_type": "code",
   "execution_count": 207,
   "metadata": {},
   "outputs": [],
   "source": [
    "data = pd.read_excel(f\"{SHEETS_PATH}\\\\combined_modern_slavery_statements.xlsx\")\n",
    "data.fillna(\"#NA\", inplace=True)\n",
    "data[\"duplicate_statement\"] = data.duplicated(subset=\"URL\")"
   ]
  },
  {
   "cell_type": "code",
   "execution_count": 208,
   "metadata": {},
   "outputs": [
    {
     "data": {
      "text/html": [
       "<div>\n",
       "<style scoped>\n",
       "    .dataframe tbody tr th:only-of-type {\n",
       "        vertical-align: middle;\n",
       "    }\n",
       "\n",
       "    .dataframe tbody tr th {\n",
       "        vertical-align: top;\n",
       "    }\n",
       "\n",
       "    .dataframe thead th {\n",
       "        text-align: right;\n",
       "    }\n",
       "</style>\n",
       "<table border=\"1\" class=\"dataframe\">\n",
       "  <thead>\n",
       "    <tr style=\"text-align: right;\">\n",
       "      <th></th>\n",
       "      <th>Company ID</th>\n",
       "      <th>Company</th>\n",
       "      <th>Statement ID</th>\n",
       "      <th>URL</th>\n",
       "      <th>statement(Edgar)</th>\n",
       "      <th>statement(Nitin)</th>\n",
       "      <th>final_statement</th>\n",
       "      <th>final_statement(E/N)</th>\n",
       "      <th>final_statement_cleaned</th>\n",
       "      <th>duplicate_statement</th>\n",
       "    </tr>\n",
       "  </thead>\n",
       "  <tbody>\n",
       "    <tr>\n",
       "      <th>0</th>\n",
       "      <td>7676</td>\n",
       "      <td>\"K\" Line Holding Europe Limited</td>\n",
       "      <td>35092</td>\n",
       "      <td>https://img1.wsimg.com/blobby/go/7695baff-3f0f...</td>\n",
       "      <td>K LINE\\nHOLDINC (EUROPE) LTD.\\nModern Slavery ...</td>\n",
       "      <td>66 99 \\u201cK\\u201d Line Holding (Europe) Limi...</td>\n",
       "      <td>K LINE\\nHOLDINC (EUROPE) LTD.\\nModern Slavery ...</td>\n",
       "      <td>E</td>\n",
       "      <td>holdinc europe ltd modern slavery act transpar...</td>\n",
       "      <td>False</td>\n",
       "    </tr>\n",
       "    <tr>\n",
       "      <th>1</th>\n",
       "      <td>28660</td>\n",
       "      <td>\"K\" Line Bulk Shipping (UK) Limited</td>\n",
       "      <td>35092</td>\n",
       "      <td>https://img1.wsimg.com/blobby/go/7695baff-3f0f...</td>\n",
       "      <td>K LINE\\nHOLDINC (EUROPE) LTD.\\nModern Slavery ...</td>\n",
       "      <td>66 99 \\u201cK\\u201d Line Holding (Europe) Limi...</td>\n",
       "      <td>K LINE\\nHOLDINC (EUROPE) LTD.\\nModern Slavery ...</td>\n",
       "      <td>E</td>\n",
       "      <td>holdinc europe ltd modern slavery act transpar...</td>\n",
       "      <td>True</td>\n",
       "    </tr>\n",
       "    <tr>\n",
       "      <th>2</th>\n",
       "      <td>28659</td>\n",
       "      <td>\"K\" Line (Europe) Limited</td>\n",
       "      <td>35092</td>\n",
       "      <td>https://img1.wsimg.com/blobby/go/7695baff-3f0f...</td>\n",
       "      <td>K LINE\\nHOLDINC (EUROPE) LTD.\\nModern Slavery ...</td>\n",
       "      <td>66 99 \\u201cK\\u201d Line Holding (Europe) Limi...</td>\n",
       "      <td>K LINE\\nHOLDINC (EUROPE) LTD.\\nModern Slavery ...</td>\n",
       "      <td>E</td>\n",
       "      <td>holdinc europe ltd modern slavery act transpar...</td>\n",
       "      <td>True</td>\n",
       "    </tr>\n",
       "  </tbody>\n",
       "</table>\n",
       "</div>"
      ],
      "text/plain": [
       "   Company ID                              Company Statement ID  \\\n",
       "0        7676      \"K\" Line Holding Europe Limited        35092   \n",
       "1       28660  \"K\" Line Bulk Shipping (UK) Limited        35092   \n",
       "2       28659            \"K\" Line (Europe) Limited        35092   \n",
       "\n",
       "                                                 URL  \\\n",
       "0  https://img1.wsimg.com/blobby/go/7695baff-3f0f...   \n",
       "1  https://img1.wsimg.com/blobby/go/7695baff-3f0f...   \n",
       "2  https://img1.wsimg.com/blobby/go/7695baff-3f0f...   \n",
       "\n",
       "                                    statement(Edgar)  \\\n",
       "0  K LINE\\nHOLDINC (EUROPE) LTD.\\nModern Slavery ...   \n",
       "1  K LINE\\nHOLDINC (EUROPE) LTD.\\nModern Slavery ...   \n",
       "2  K LINE\\nHOLDINC (EUROPE) LTD.\\nModern Slavery ...   \n",
       "\n",
       "                                    statement(Nitin)  \\\n",
       "0  66 99 \\u201cK\\u201d Line Holding (Europe) Limi...   \n",
       "1  66 99 \\u201cK\\u201d Line Holding (Europe) Limi...   \n",
       "2  66 99 \\u201cK\\u201d Line Holding (Europe) Limi...   \n",
       "\n",
       "                                     final_statement final_statement(E/N)  \\\n",
       "0  K LINE\\nHOLDINC (EUROPE) LTD.\\nModern Slavery ...                    E   \n",
       "1  K LINE\\nHOLDINC (EUROPE) LTD.\\nModern Slavery ...                    E   \n",
       "2  K LINE\\nHOLDINC (EUROPE) LTD.\\nModern Slavery ...                    E   \n",
       "\n",
       "                             final_statement_cleaned  duplicate_statement  \n",
       "0  holdinc europe ltd modern slavery act transpar...                False  \n",
       "1  holdinc europe ltd modern slavery act transpar...                 True  \n",
       "2  holdinc europe ltd modern slavery act transpar...                 True  "
      ]
     },
     "execution_count": 208,
     "metadata": {},
     "output_type": "execute_result"
    }
   ],
   "source": [
    "data.head(3)"
   ]
  },
  {
   "cell_type": "code",
   "execution_count": 209,
   "metadata": {},
   "outputs": [
    {
     "name": "stdout",
     "output_type": "stream",
     "text": [
      "Before cleaning\n",
      "Total non-NA final_statements: 20699\n",
      "Number of non-NA final_statements(E): 18619\n",
      "Number of non-NA final_statements(N): 2080\n"
     ]
    }
   ],
   "source": [
    "print(\"Before cleaning\")\n",
    "print(f\"Total non-NA final_statements: {np.sum((data['final_statement_cleaned'] != '#NA'))}\")\n",
    "\n",
    "print(\"Number of non-NA final_statements(E): \"\n",
    "      f\"{np.sum((data['final_statement_cleaned'] != '#NA') & (data['final_statement(E/N)'] == 'E'))}\")\n",
    "\n",
    "print(\"Number of non-NA final_statements(N): \"\n",
    "      f\"{np.sum((data['final_statement_cleaned'] != '#NA') & (data['final_statement(E/N)'] == 'N'))}\")"
   ]
  },
  {
   "cell_type": "code",
   "execution_count": 210,
   "metadata": {},
   "outputs": [
    {
     "name": "stdout",
     "output_type": "stream",
     "text": [
      "Number of non-NA unique statements : 11967\n",
      "Number of non-NA duplicate statements : 8732\n"
     ]
    }
   ],
   "source": [
    "print(\"Number of non-NA unique statements : \"\n",
    "      f\"{np.sum((data['final_statement_cleaned']!='#NA') & (data['duplicate_statement']==False))}\")\n",
    "\n",
    "print(\"Number of non-NA duplicate statements : \"\n",
    "      f\"{np.sum((data['final_statement_cleaned']!='#NA') & (data['duplicate_statement']==True))}\")"
   ]
  },
  {
   "cell_type": "markdown",
   "metadata": {},
   "source": [
    "# Selecting unique statements"
   ]
  },
  {
   "cell_type": "code",
   "execution_count": 211,
   "metadata": {},
   "outputs": [
    {
     "data": {
      "text/html": [
       "<div>\n",
       "<style scoped>\n",
       "    .dataframe tbody tr th:only-of-type {\n",
       "        vertical-align: middle;\n",
       "    }\n",
       "\n",
       "    .dataframe tbody tr th {\n",
       "        vertical-align: top;\n",
       "    }\n",
       "\n",
       "    .dataframe thead th {\n",
       "        text-align: right;\n",
       "    }\n",
       "</style>\n",
       "<table border=\"1\" class=\"dataframe\">\n",
       "  <thead>\n",
       "    <tr style=\"text-align: right;\">\n",
       "      <th></th>\n",
       "      <th>URL</th>\n",
       "      <th>final_statement_cleaned</th>\n",
       "    </tr>\n",
       "  </thead>\n",
       "  <tbody>\n",
       "    <tr>\n",
       "      <th>0</th>\n",
       "      <td>https://img1.wsimg.com/blobby/go/7695baff-3f0f...</td>\n",
       "      <td>holdinc europe ltd modern slavery act transpar...</td>\n",
       "    </tr>\n",
       "    <tr>\n",
       "      <th>10</th>\n",
       "      <td>https://1spatial.com/who-we-are/legal/modern-s...</td>\n",
       "      <td>independent research edison investments modern...</td>\n",
       "    </tr>\n",
       "    <tr>\n",
       "      <th>11</th>\n",
       "      <td>https://www.shazans.com/slavery-and-human-traf...</td>\n",
       "      <td>slavery human trafficking statement slavery hu...</td>\n",
       "    </tr>\n",
       "    <tr>\n",
       "      <th>12</th>\n",
       "      <td>https://www.business-humanrights.org/sites/def...</td>\n",
       "      <td>modern slavery atement modern slavery atement ...</td>\n",
       "    </tr>\n",
       "    <tr>\n",
       "      <th>13</th>\n",
       "      <td>https://www.2agriculture.com/wp-content/upload...</td>\n",
       "      <td>modern slavery act slavery human trafficking s...</td>\n",
       "    </tr>\n",
       "    <tr>\n",
       "      <th>14</th>\n",
       "      <td>https://www.2agriculture.com/wp-content/upload...</td>\n",
       "      <td>modern slavery act slavery human trafficking s...</td>\n",
       "    </tr>\n",
       "  </tbody>\n",
       "</table>\n",
       "</div>"
      ],
      "text/plain": [
       "                                                  URL  \\\n",
       "0   https://img1.wsimg.com/blobby/go/7695baff-3f0f...   \n",
       "10  https://1spatial.com/who-we-are/legal/modern-s...   \n",
       "11  https://www.shazans.com/slavery-and-human-traf...   \n",
       "12  https://www.business-humanrights.org/sites/def...   \n",
       "13  https://www.2agriculture.com/wp-content/upload...   \n",
       "14  https://www.2agriculture.com/wp-content/upload...   \n",
       "\n",
       "                              final_statement_cleaned  \n",
       "0   holdinc europe ltd modern slavery act transpar...  \n",
       "10  independent research edison investments modern...  \n",
       "11  slavery human trafficking statement slavery hu...  \n",
       "12  modern slavery atement modern slavery atement ...  \n",
       "13  modern slavery act slavery human trafficking s...  \n",
       "14  modern slavery act slavery human trafficking s...  "
      ]
     },
     "execution_count": 211,
     "metadata": {},
     "output_type": "execute_result"
    }
   ],
   "source": [
    "subset_data = data[data[\"final_statement_cleaned\"]!=\"#NA\"][[\"URL\", \"final_statement_cleaned\"]].copy()\n",
    "subset_data.drop_duplicates(subset=\"URL\", inplace=True)\n",
    "subset_data.head(6)"
   ]
  },
  {
   "cell_type": "markdown",
   "metadata": {},
   "source": [
    "# Lemmatizing"
   ]
  },
  {
   "cell_type": "code",
   "execution_count": 215,
   "metadata": {},
   "outputs": [
    {
     "name": "stderr",
     "output_type": "stream",
     "text": [
      "100%|███████████████████████████████████████████████████████████████████████████| 11967/11967 [00:43<00:00, 275.04it/s]\n"
     ]
    }
   ],
   "source": [
    "lemmatizer = WordNetLemmatizer() # wordnet lemmatizer object\n",
    "cleaned_statements = []\n",
    "for statement in tqdm(subset_data[\"final_statement_cleaned\"], position=0, leave=True):\n",
    "    cleaned_statements.append(\n",
    "        \" \".join(\n",
    "            lemmatizer.lemmatize(word, pos=\"v\") for word in statement.split()))"
   ]
  },
  {
   "cell_type": "code",
   "execution_count": 216,
   "metadata": {},
   "outputs": [
    {
     "name": "stderr",
     "output_type": "stream",
     "text": [
      "100%|██████████████████████████████████████████████████████████████████████████| 11967/11967 [00:06<00:00, 1733.49it/s]\n"
     ]
    }
   ],
   "source": [
    "word_sizes = {}\n",
    "vocab = {}\n",
    "for statement in tqdm(cleaned_statements, position=0, leave=True):\n",
    "    for word in statement.split():\n",
    "        size = len(word)\n",
    "        if word not in vocab:\n",
    "            vocab[word] = 1\n",
    "        else:\n",
    "            vocab[word] += 1\n",
    "        if size not in word_sizes:\n",
    "            word_sizes[size] = 1\n",
    "        else:\n",
    "            word_sizes[size] += 1"
   ]
  },
  {
   "cell_type": "code",
   "execution_count": 217,
   "metadata": {},
   "outputs": [],
   "source": [
    "word_sizes = sort_dict(word_sizes, by=0)"
   ]
  },
  {
   "cell_type": "code",
   "execution_count": 218,
   "metadata": {},
   "outputs": [
    {
     "name": "stdout",
     "output_type": "stream",
     "text": [
      "Total vocab size: 54691, total distinct word sizes: 85\n"
     ]
    }
   ],
   "source": [
    "print(f\"Total vocab size: {len(vocab)}, total distinct word sizes: {len(word_sizes)}\")"
   ]
  },
  {
   "cell_type": "code",
   "execution_count": 219,
   "metadata": {},
   "outputs": [
    {
     "data": {
      "image/png": "[encoded data removed]",
      "text/plain": [
       "<Figure size 432x288 with 1 Axes>"
      ]
     },
     "metadata": {
      "needs_background": "light"
     },
     "output_type": "display_data"
    }
   ],
   "source": [
    "fig, ax = plt.subplots()\n",
    "ax.bar(word_sizes.keys(), word_sizes.values())\n",
    "ax.set_xlabel(\"word size\")\n",
    "ax.set_ylabel(\"count\")\n",
    "plt.show()"
   ]
  },
  {
   "cell_type": "code",
   "execution_count": 220,
   "metadata": {},
   "outputs": [
    {
     "data": {
      "image/png": "[encoded data removed]",
      "text/plain": [
       "<Figure size 432x288 with 1 Axes>"
      ]
     },
     "metadata": {
      "needs_background": "light"
     },
     "output_type": "display_data"
    }
   ],
   "source": [
    "fig, ax = plt.subplots()\n",
    "ax.bar(list(word_sizes.keys())[:20], list(word_sizes.values())[:20])\n",
    "ax.set_xlabel(\"word size\")\n",
    "ax.set_ylabel(\"count\")\n",
    "ax.xaxis.set_major_locator(MaxNLocator(integer=True))\n",
    "plt.show()"
   ]
  },
  {
   "cell_type": "markdown",
   "metadata": {},
   "source": [
    "From above plot, it seems like max word size can be restricted to 15 and min word size to 2"
   ]
  },
  {
   "cell_type": "code",
   "execution_count": 221,
   "metadata": {},
   "outputs": [],
   "source": [
    "MIN_WORD_SIZE = 2\n",
    "MAX_WORD_SIZE = 15"
   ]
  },
  {
   "cell_type": "code",
   "execution_count": 222,
   "metadata": {},
   "outputs": [
    {
     "name": "stderr",
     "output_type": "stream",
     "text": [
      "100%|██████████████████████████████████████████████████████████████████████████| 11967/11967 [00:02<00:00, 5634.17it/s]\n"
     ]
    }
   ],
   "source": [
    "temp_cleaned_statements = []\n",
    "for statement in tqdm(cleaned_statements, position=0, leave=True):\n",
    "    temp_cleaned_statements.append(\n",
    "        \" \".join([word for word in statement.split() \n",
    "                  if MIN_WORD_SIZE <= len(word) <= MAX_WORD_SIZE]))\n",
    "cleaned_statements = deepcopy(temp_cleaned_statements)"
   ]
  },
  {
   "cell_type": "code",
   "execution_count": 223,
   "metadata": {},
   "outputs": [
    {
     "name": "stderr",
     "output_type": "stream",
     "text": [
      "100%|██████████████████████████████████████████████████████████████████████████| 11967/11967 [00:06<00:00, 1777.10it/s]\n"
     ]
    }
   ],
   "source": [
    "sub_word_sizes = {}\n",
    "sub_vocab = {}\n",
    "for statement in tqdm(cleaned_statements, position=0, leave=True):\n",
    "    for word in statement.split():\n",
    "        size = len(word)\n",
    "        if word not in sub_vocab:\n",
    "            sub_vocab[word] = 1\n",
    "        else:\n",
    "            sub_vocab[word] += 1\n",
    "        if size not in sub_word_sizes:\n",
    "            sub_word_sizes[size] = 1\n",
    "        else:\n",
    "            sub_word_sizes[size] += 1"
   ]
  },
  {
   "cell_type": "code",
   "execution_count": 224,
   "metadata": {},
   "outputs": [],
   "source": [
    "sub_word_sizes = sort_dict(sub_word_sizes, by=0)\n",
    "sub_vocab = sort_dict(sub_vocab, by=1, reverse=True)"
   ]
  },
  {
   "cell_type": "code",
   "execution_count": 225,
   "metadata": {},
   "outputs": [
    {
     "name": "stdout",
     "output_type": "stream",
     "text": [
      "Total vocab size: 52443, total distinct word sizes: 14\n"
     ]
    }
   ],
   "source": [
    "print(f\"Total vocab size: {len(sub_vocab)}, total distinct word sizes: {len(sub_word_sizes)}\")"
   ]
  },
  {
   "cell_type": "code",
   "execution_count": 229,
   "metadata": {},
   "outputs": [],
   "source": [
    "subset_data[\"final_statement_cleaned_2\"] = cleaned_statements"
   ]
  },
  {
   "cell_type": "code",
   "execution_count": 230,
   "metadata": {},
   "outputs": [
    {
     "data": {
      "text/html": [
       "<div>\n",
       "<style scoped>\n",
       "    .dataframe tbody tr th:only-of-type {\n",
       "        vertical-align: middle;\n",
       "    }\n",
       "\n",
       "    .dataframe tbody tr th {\n",
       "        vertical-align: top;\n",
       "    }\n",
       "\n",
       "    .dataframe thead th {\n",
       "        text-align: right;\n",
       "    }\n",
       "</style>\n",
       "<table border=\"1\" class=\"dataframe\">\n",
       "  <thead>\n",
       "    <tr style=\"text-align: right;\">\n",
       "      <th></th>\n",
       "      <th>URL</th>\n",
       "      <th>final_statement_cleaned</th>\n",
       "      <th>final_statement_cleaned_2</th>\n",
       "    </tr>\n",
       "  </thead>\n",
       "  <tbody>\n",
       "    <tr>\n",
       "      <th>0</th>\n",
       "      <td>https://img1.wsimg.com/blobby/go/7695baff-3f0f...</td>\n",
       "      <td>holdinc europe ltd modern slavery act transpar...</td>\n",
       "      <td>holdinc europe ltd modern slavery act transpar...</td>\n",
       "    </tr>\n",
       "    <tr>\n",
       "      <th>10</th>\n",
       "      <td>https://1spatial.com/who-we-are/legal/modern-s...</td>\n",
       "      <td>independent research edison investments modern...</td>\n",
       "      <td>independent research edison investments modern...</td>\n",
       "    </tr>\n",
       "    <tr>\n",
       "      <th>11</th>\n",
       "      <td>https://www.shazans.com/slavery-and-human-traf...</td>\n",
       "      <td>slavery human trafficking statement slavery hu...</td>\n",
       "      <td>slavery human traffic statement slavery human ...</td>\n",
       "    </tr>\n",
       "    <tr>\n",
       "      <th>12</th>\n",
       "      <td>https://www.business-humanrights.org/sites/def...</td>\n",
       "      <td>modern slavery atement modern slavery atement ...</td>\n",
       "      <td>modern slavery atement modern slavery atement ...</td>\n",
       "    </tr>\n",
       "    <tr>\n",
       "      <th>13</th>\n",
       "      <td>https://www.2agriculture.com/wp-content/upload...</td>\n",
       "      <td>modern slavery act slavery human trafficking s...</td>\n",
       "      <td>modern slavery act slavery human traffic state...</td>\n",
       "    </tr>\n",
       "  </tbody>\n",
       "</table>\n",
       "</div>"
      ],
      "text/plain": [
       "                                                  URL  \\\n",
       "0   https://img1.wsimg.com/blobby/go/7695baff-3f0f...   \n",
       "10  https://1spatial.com/who-we-are/legal/modern-s...   \n",
       "11  https://www.shazans.com/slavery-and-human-traf...   \n",
       "12  https://www.business-humanrights.org/sites/def...   \n",
       "13  https://www.2agriculture.com/wp-content/upload...   \n",
       "\n",
       "                              final_statement_cleaned  \\\n",
       "0   holdinc europe ltd modern slavery act transpar...   \n",
       "10  independent research edison investments modern...   \n",
       "11  slavery human trafficking statement slavery hu...   \n",
       "12  modern slavery atement modern slavery atement ...   \n",
       "13  modern slavery act slavery human trafficking s...   \n",
       "\n",
       "                            final_statement_cleaned_2  \n",
       "0   holdinc europe ltd modern slavery act transpar...  \n",
       "10  independent research edison investments modern...  \n",
       "11  slavery human traffic statement slavery human ...  \n",
       "12  modern slavery atement modern slavery atement ...  \n",
       "13  modern slavery act slavery human traffic state...  "
      ]
     },
     "execution_count": 230,
     "metadata": {},
     "output_type": "execute_result"
    }
   ],
   "source": [
    "subset_data.head()"
   ]
  },
  {
   "cell_type": "markdown",
   "metadata": {},
   "source": [
    "# Generating similarity score between statements"
   ]
  },
  {
   "cell_type": "code",
   "execution_count": 231,
   "metadata": {},
   "outputs": [],
   "source": [
    "N_GRAM = (1, 1)\n",
    "count_vect = CountVectorizer(ngram_range=N_GRAM)\n",
    "X = count_vect.fit_transform(subset_data[\"final_statement_cleaned_2\"])"
   ]
  },
  {
   "cell_type": "code",
   "execution_count": 232,
   "metadata": {},
   "outputs": [
    {
     "name": "stdout",
     "output_type": "stream",
     "text": [
      "Count vector shape: (11967, 52443)\n"
     ]
    }
   ],
   "source": [
    "print(f\"Count vector shape: {X.shape}\")"
   ]
  },
  {
   "cell_type": "code",
   "execution_count": 233,
   "metadata": {},
   "outputs": [],
   "source": [
    "similarity_matrix = cosine_similarity(X, X)"
   ]
  },
  {
   "cell_type": "markdown",
   "metadata": {},
   "source": [
    "# Tagging almost duplicate statements using similarity score"
   ]
  },
  {
   "cell_type": "code",
   "execution_count": 240,
   "metadata": {},
   "outputs": [
    {
     "name": "stderr",
     "output_type": "stream",
     "text": [
      "100%|██████████████████████████████████████████████████████████████████████████| 11967/11967 [00:02<00:00, 4468.60it/s]\n"
     ]
    }
   ],
   "source": [
    "DUPLICATE_SIMILARITY_SCORE_THRESHOLD = .99\n",
    "n = X.shape[0]\n",
    "dup_mapping = {} \n",
    "dup_idxs = []\n",
    "for idx in tqdm(range(n), position=0, leave=True):\n",
    "    if idx not in dup_idxs:\n",
    "        idxs = np.argwhere(similarity_matrix[idx][idx+1:] > DUPLICATE_SIMILARITY_SCORE_THRESHOLD).ravel()\n",
    "        if len(idxs) > 0:\n",
    "            idxs += idx+1 # shifting\n",
    "            dup_mapping[idx] = idxs\n",
    "            dup_idxs += list(idxs)"
   ]
  },
  {
   "cell_type": "code",
   "execution_count": 268,
   "metadata": {},
   "outputs": [
    {
     "name": "stdout",
     "output_type": "stream",
     "text": [
      "Found 1191 out of 11967 with 99.0% duplicacy\n"
     ]
    }
   ],
   "source": [
    "print(f\"Found {len(dup_idxs)} out of {len(subset_data)} with {DUPLICATE_SIMILARITY_SCORE_THRESHOLD*100}% duplicacy\")"
   ]
  },
  {
   "cell_type": "code",
   "execution_count": 253,
   "metadata": {},
   "outputs": [
    {
     "name": "stderr",
     "output_type": "stream",
     "text": [
      "100%|██████████████████████████████████████████████████████████████████████████| 11967/11967 [00:04<00:00, 2888.48it/s]\n"
     ]
    }
   ],
   "source": [
    "subset_data[f\"{DUPLICATE_SIMILARITY_SCORE_THRESHOLD}%dup\"] = [True if idx in dup_idxs else False for idx in tqdm(range(n))]"
   ]
  },
  {
   "cell_type": "code",
   "execution_count": 255,
   "metadata": {},
   "outputs": [
    {
     "data": {
      "text/html": [
       "<div>\n",
       "<style scoped>\n",
       "    .dataframe tbody tr th:only-of-type {\n",
       "        vertical-align: middle;\n",
       "    }\n",
       "\n",
       "    .dataframe tbody tr th {\n",
       "        vertical-align: top;\n",
       "    }\n",
       "\n",
       "    .dataframe thead th {\n",
       "        text-align: right;\n",
       "    }\n",
       "</style>\n",
       "<table border=\"1\" class=\"dataframe\">\n",
       "  <thead>\n",
       "    <tr style=\"text-align: right;\">\n",
       "      <th></th>\n",
       "      <th>URL</th>\n",
       "      <th>final_statement_cleaned</th>\n",
       "      <th>final_statement_cleaned_2</th>\n",
       "      <th>0.99%dup</th>\n",
       "    </tr>\n",
       "  </thead>\n",
       "  <tbody>\n",
       "    <tr>\n",
       "      <th>0</th>\n",
       "      <td>https://img1.wsimg.com/blobby/go/7695baff-3f0f...</td>\n",
       "      <td>holdinc europe ltd modern slavery act transpar...</td>\n",
       "      <td>holdinc europe ltd modern slavery act transpar...</td>\n",
       "      <td>False</td>\n",
       "    </tr>\n",
       "    <tr>\n",
       "      <th>10</th>\n",
       "      <td>https://1spatial.com/who-we-are/legal/modern-s...</td>\n",
       "      <td>independent research edison investments modern...</td>\n",
       "      <td>independent research edison investments modern...</td>\n",
       "      <td>False</td>\n",
       "    </tr>\n",
       "    <tr>\n",
       "      <th>11</th>\n",
       "      <td>https://www.shazans.com/slavery-and-human-traf...</td>\n",
       "      <td>slavery human trafficking statement slavery hu...</td>\n",
       "      <td>slavery human traffic statement slavery human ...</td>\n",
       "      <td>False</td>\n",
       "    </tr>\n",
       "    <tr>\n",
       "      <th>12</th>\n",
       "      <td>https://www.business-humanrights.org/sites/def...</td>\n",
       "      <td>modern slavery atement modern slavery atement ...</td>\n",
       "      <td>modern slavery atement modern slavery atement ...</td>\n",
       "      <td>False</td>\n",
       "    </tr>\n",
       "    <tr>\n",
       "      <th>13</th>\n",
       "      <td>https://www.2agriculture.com/wp-content/upload...</td>\n",
       "      <td>modern slavery act slavery human trafficking s...</td>\n",
       "      <td>modern slavery act slavery human traffic state...</td>\n",
       "      <td>False</td>\n",
       "    </tr>\n",
       "  </tbody>\n",
       "</table>\n",
       "</div>"
      ],
      "text/plain": [
       "                                                  URL  \\\n",
       "0   https://img1.wsimg.com/blobby/go/7695baff-3f0f...   \n",
       "10  https://1spatial.com/who-we-are/legal/modern-s...   \n",
       "11  https://www.shazans.com/slavery-and-human-traf...   \n",
       "12  https://www.business-humanrights.org/sites/def...   \n",
       "13  https://www.2agriculture.com/wp-content/upload...   \n",
       "\n",
       "                              final_statement_cleaned  \\\n",
       "0   holdinc europe ltd modern slavery act transpar...   \n",
       "10  independent research edison investments modern...   \n",
       "11  slavery human trafficking statement slavery hu...   \n",
       "12  modern slavery atement modern slavery atement ...   \n",
       "13  modern slavery act slavery human trafficking s...   \n",
       "\n",
       "                            final_statement_cleaned_2  0.99%dup  \n",
       "0   holdinc europe ltd modern slavery act transpar...     False  \n",
       "10  independent research edison investments modern...     False  \n",
       "11  slavery human traffic statement slavery human ...     False  \n",
       "12  modern slavery atement modern slavery atement ...     False  \n",
       "13  modern slavery act slavery human traffic state...     False  "
      ]
     },
     "execution_count": 255,
     "metadata": {},
     "output_type": "execute_result"
    }
   ],
   "source": [
    "subset_data.head()"
   ]
  },
  {
   "cell_type": "code",
   "execution_count": 256,
   "metadata": {},
   "outputs": [],
   "source": [
    "subset_data.to_excel(f\"{SHEETS_PATH}\\\\subset_data.xlsx\", index=False)"
   ]
  },
  {
   "cell_type": "code",
   "execution_count": 265,
   "metadata": {},
   "outputs": [
    {
     "data": {
      "text/plain": [
       "(50, array([51], dtype=int64))"
      ]
     },
     "execution_count": 265,
     "metadata": {},
     "output_type": "execute_result"
    }
   ],
   "source": [
    "list(dup_mapping.items())[2]"
   ]
  },
  {
   "cell_type": "code",
   "execution_count": 266,
   "metadata": {},
   "outputs": [
    {
     "data": {
      "text/plain": [
       "'document op issue date revision modern slavery human traffic policy introduction accordance modern s'"
      ]
     },
     "execution_count": 266,
     "metadata": {},
     "output_type": "execute_result"
    }
   ],
   "source": [
    "subset_data[\"final_statement_cleaned_2\"].iloc[50][:100]"
   ]
  },
  {
   "cell_type": "code",
   "execution_count": 267,
   "metadata": {},
   "outputs": [
    {
     "data": {
      "text/plain": [
       "'document op issue date revision modern slavery human traffic policy introduction accordance modern s'"
      ]
     },
     "execution_count": 267,
     "metadata": {},
     "output_type": "execute_result"
    }
   ],
   "source": [
    "subset_data[\"final_statement_cleaned_2\"].iloc[51][:100]"
   ]
  },
  {
   "cell_type": "code",
   "execution_count": 249,
   "metadata": {},
   "outputs": [
    {
     "data": {
      "text/plain": [
       "('https://www.ajnsteelstock.co.uk/wp-content/uploads/2019/04/OP008-Modern-Slavery-and-Human-Trafficking-Policy-Reviewed-04.04.2019.pdf',\n",
       " 'https://www.ajnsteelstock.co.uk/wp-content/uploads/2016/11/OP008-Modern-Slavery-and-Human-Trafficking-Policy.pdf')"
      ]
     },
     "execution_count": 249,
     "metadata": {},
     "output_type": "execute_result"
    }
   ],
   "source": [
    "subset_data[\"URL\"].iloc[50], subset_data[\"URL\"].iloc[51]"
   ]
  }
 ],
 "metadata": {
  "kernelspec": {
   "display_name": "modern_slavery",
   "language": "python",
   "name": "modern_slavery"
  },
  "language_info": {
   "codemirror_mode": {
    "name": "ipython",
    "version": 3
   },
   "file_extension": ".py",
   "mimetype": "text/x-python",
   "name": "python",
   "nbconvert_exporter": "python",
   "pygments_lexer": "ipython3",
   "version": "3.10.1"
  }
 },
 "nbformat": 4,
 "nbformat_minor": 4
}
